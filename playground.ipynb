{
 "cells": [
  {
   "cell_type": "code",
   "execution_count": 1,
   "metadata": {},
   "outputs": [],
   "source": [
    "from datasets import load_dataset\n",
    "from transformers import AutoTokenizer\n",
    "import transformers\n",
    "import pandas as pd\n",
    "from torch.utils.data import Dataset\n",
    "\n",
    "def preprocess(RAW_DATA, TOKENIZER, MAX_LENGTH=1024):\n",
    "    dataset =  TOKENIZER(\n",
    "                           RAW_DATA,\n",
    "                           truncation=True,\n",
    "                           padding=\"max_length\",\n",
    "                           max_length=MAX_LENGTH,\n",
    "                           return_tensors=\"pt\",\n",
    "    )\n",
    "    return dataset\n",
    "    # tokenized_datasets = {}\n",
    "    # for text in RAW_DATA:\n",
    "    #     tokenized_datasets[key] = shuffled_datasets[key].map(\n",
    "    #         lambda x: tokenizer(\n",
    "    #             x[\"text\"],\n",
    "    #             truncation=True,\n",
    "    #             padding=\"max_length\",\n",
    "    #             max_length=MAX_LENGTH,\n",
    "    #             return_tensors=\"pt\",\n",
    "    #         )\n",
    "    #     )\n",
    "\n",
    "#     return tokenized_datasets\n",
    "# def make_supervised_data_module(\n",
    "#     tokenizer: transformers.PreTrainedTokenizer, data_args\n",
    "# ) -> Dict:\n",
    "#     \"\"\"Make dataset and collator for supervised fine-tuning.\"\"\"\n",
    "#     dataset_cls = (\n",
    "#         LazySupervisedDataset if data_args.lazy_preprocess else SupervisedDataset\n",
    "#     )\n",
    "#     rank0_print(\"Loading data...\")\n",
    "\n",
    "#     train_json = json.load(open(data_args.data_path, \"r\"))\n",
    "#     train_dataset = dataset_cls(train_json, tokenizer=tokenizer)\n",
    "\n",
    "#     if data_args.eval_data_path:\n",
    "#         eval_json = json.load(open(data_args.eval_data_path, \"r\"))\n",
    "#         eval_dataset = dataset_cls(eval_json, tokenizer=tokenizer)\n",
    "#     else:\n",
    "#         eval_dataset = None\n",
    "\n",
    "#     return dict(train_dataset=train_dataset, eval_dataset=eval_dataset)\n",
    "\n",
    "\n",
    "class SupervisedDataset(Dataset):\n",
    "    \"\"\"Dataset for supervised fine-tuning.\"\"\"\n",
    "\n",
    "    def __init__(self, raw_data, tokenizer: transformers.PreTrainedTokenizer):\n",
    "        super(SupervisedDataset, self).__init__()\n",
    "\n",
    "        sources = [example for example in raw_data]\n",
    "        data_dict = preprocess(RAW_DATA=sources, TOKENIZER=tokenizer)\n",
    "\n",
    "        self.input_ids = data_dict[\"input_ids\"]\n",
    "        self.labels = data_dict[\"input_ids\"]\n",
    "        self.attention_mask = data_dict[\"attention_mask\"]\n",
    "\n",
    "    def __len__(self):\n",
    "        return len(self.input_ids)\n",
    "\n",
    "    def __getitem__(self, i):\n",
    "        return dict(\n",
    "            input_ids=self.input_ids[i],\n",
    "            labels=self.input_ids[i],\n",
    "            attention_mask=self.attention_mask[i],\n",
    "        )"
   ]
  },
  {
   "cell_type": "code",
   "execution_count": 2,
   "metadata": {},
   "outputs": [],
   "source": [
    "data1 = pd.read_parquet(\"/home/shawn/nvme/vl_research/jerry-agent/Revisiting-Vicuna/SlimPajama-6B/data/test-00000-of-00001-9f769cf7ce219017.parquet\")"
   ]
  },
  {
   "cell_type": "code",
   "execution_count": 3,
   "metadata": {},
   "outputs": [
    {
     "data": {
      "text/plain": [
       "array(['Regional NYC to Embark on Annual Count of Street Homeless\\nNYC to Embark on Annual Count of Street Homeless\\nMonday, February 8, 2016 at 2:48 am | כ\"ט שבט תשע\"ו\\nA homeless man sleeps on the shuttle train between Times Square and Grand Central Terminal in Manhattan, New York, Jan. 23. (Reuters/Carlo Allegri)\\nThousands of volunteers will fan out across New York City for the city\\'s annual one-night count of homeless people living on the streets.\\nThe canvass on Monday night, known as the HOPE Count, is getting extra attention this year as the nation\\'s largest city grapples with an uptick in homelessness that has dominated front pages and consumed Mayor Bill de Blasio\\'s City Hall.\\nCity officials have lined up more than 3,500 volunteers who will receive a couple of hours training before being dispatched to the city\\'s streets and subway stations. A year ago, volunteers counted 3,182 people living unsheltered.\\nMany city officials have publicly said they believe the number is higher now. Another 58,000 people are currently living in the city\\'s homeless shelters.\\nNow entering its 12th year, the HOPE count is a nationwide estimate that cities must do to qualify for certain types of U.S. Department of Housing and Urban Development funding. In New York, it\\'s usually done on the last Monday of January, during the height of winter when those living on the street are most vulnerable. This year\\'s count was postponed two weeks due to a blizzard.\\nSome advocacy groups, including the Coalition for the Homeless, have questioned the count\\'s methodology, saying many homeless people are missed during the two-hour count. But city officials said the sampling method has been approved by HUD and is used across the nation.\\n\"It provides a snapshot of a point in time and helps us adjust our resources accordingly,\" said Kristin Misner, top aide to the deputy mayor in charge of human services. \"The methodology we have in place makes this a very informative and robust count.\"\\nThe count comes two months after de Blasio launched HomeStat, a new outreach program that aims to conduct daily canvasses of every block in a seven-mile stretch of Manhattan. The outreach workers are tasked with establishing contact with the homeless and urging them to get off the street — but many refuse, citing the poor conditions of the city shelter system.\\nDe Blasio has vowed to improve the city\\'s shelters. Gov. Andrew Cuomo, who issued an executive order that requires the homeless to be moved off the street if the temperature drops below zero, recently appointed Comptroller Scott Stringer to inspect the city\\'s shelters while threatening to close those in shoddy shape.\\nDe Blasio himself, accompanied by HUD Secretary Julian Castro, will take part in a portion of Monday night\\'s count.\\nRegional Briefs – December 1, 2015\\nDe Blasio\\'s Head of Homelessness Agency is Resigning\\nFeds Salute NYC\\'s Fight Against Veteran Homelessness\\nCuomo Signs Order to Push Homeless Indoors in Frigid Temps\\nOrder to Remove Homeless From NY Streets Faces Challenges',\n",
       "       'HomeNewsCalls for contract with \\'failing\\' Kent and Medway wheelchair provider to be axed\\nCalls for contract with \\'failing\\' Kent and Medway wheelchair provider to be axed\\nJuly 20, 2018 Kathy Bailes News 4\\nMillbrook Healthcare\\nKent Healthwatch, county wheelchair users and disability forums and county councillors, including Thanet representatives Karen Constantine and Lesley Game, are demanding that a contract managed by Thanet Clinical Commissioning Group for wheelchair provider Millbrook Healthcare is axed.\\nNHS Thanet Clinical Commissioning Group (CCG) looks after the contract on behalf of the eight CCGs across Kent and Medway. Millbrook Healthcare is tasked with providing NHS funded wheelchairs for children and adults in Kent and Medway with long-term needs of six months or more.\\nBut the service has been slammed for a backlog which has resulted in some 330 people waiting over a year for a wheelchair and, as of March 2018, 251 children and 999 adults waiting for more than 18 weeks for assessment, repairs or provision of equipment.\\nMillbrook Healthcare took on the contract in April 2017 and both the company and Thanet CCG say a backlog was inherited of long waiters and a much higher proportion of patients requiring powered and specialist wheelchairs than had been expected during the procurement.\\nThanet CCG say that following an audit it has been recognised that in order to resolve this, additional funds will need to be provided to Millbrook Healthcare with an amount agreement expected by the end of the month.\\nBut Professor Mike Oliver, speaking on behalf county wheelchair user and disability forums and Kent Healthwatch, said the service was \"the worst it has ever been\" in his 56 years experience of being a wheelchair user and over 20 years background working with health care providers.\\nHe said: \"We believe there is no alternative but to remove the contract from Millbrook.\\n\"There are issues about wheelchairs not being provided, people being told the budget has already run out, some people are being provided with the wrong parts and repairs are delayed. The whole situation is getting out of hand and communication with Millbrook is poor, complaints are ignored.\"\\nProfessor Oliver said hospitals were running out of their own chairs because they had to provide them to patients failed by Millbrook in order to prevent hospital bed blocking.\\nHe also claimed that harassment, bullying, threatening behaviour and even assault had been reported in regards to the company.\\nHe added: \"The situation has reached a critical stage. The CCG appears to want to work with Millbrook in order to try and resolve the problems but we have made it clear we do not think that is a viable option. The only option is for MillBrook to have the contract taken away.\"\\nAlisa Ogilvie, from Thanet CCG, apologised for the experience suffered by service users and admitted the waiting times were \\'unacceptable\\' but said the CCG had not considered terminating the contract.\\nShe said the inherited backlog and high volume of specialist chairs required had impacted on the service.\\nShe said: \"We are determined to make sure patients receive the service they deserve. We still believe, at this current time, that MillBrook are able to deliver this contract.\"\\nCouncillor Constantine was one of several members who called for the contract to be terminated. She added: \"This is a prime example of how outsourcing in the NHH puts profit before people. I think it is shameful.\\n\"I think we need to terminate this contract.\"\\nSpeaking after the meeting, she added: \"The commissioners are not listening to the pain, distress and discomfort of the service users.\\n\"It\\'s absolutely staggering that 330 patients have been waiting for over a year for a wheelchair fitting. It is equally staggering to hear this is a direct result of introducing outsourcing in the NHS.\"\\nHer call was echoed by Councillor Game who questioned why the contract had not been monitored more closely and suggested if it couldn\\'t be axed then a body other than the CCG should manage it.\\nMembers of the health scrutiny board have asked Thanet CCG to return in two weeks with a report outlining the contract details, consideration of termination and an action plan.\\nA letter expressing the committee\\'s \\'grave concerns\\' will be sent to all the CCGs.\\n\\'Inherited\\'\\nA spokesperson from NHS Thanet Clinical Commissioning Group and Millbrook Healthcare said: \"NHS Thanet Clinical Commissioning Group (CCG), on behalf of the eight CCGs across Kent and Medway, has been working with Millbrook Healthcare to understand the current situation in relation to the inherited backlog and delays in equipment and repairs taking place.\\n\"Following an independent audit commissioned by the CCGs, we are now in a position to understand the full scale of the issues, which we are working on in conjunction with Millbrook Healthcare. Both the CCGs and Millbrook Healthcare are taking this situation very seriously and we apologise for the time it has taken to get to this point however, it has been necessary given the issues presented.\\n\"The CCGs recognise the impact that the inherited backlog has had on the service, and that this has caused additional cost pressures. Once the additional funding has been agreed the CCGs are committed to releasing the funds to help Millbrook Healthcare clear the backlog.\\n\"The additional funding will be linked to a plan with clear timelines for issuing equipment and repairs for those patients who have been waiting for 18-weeks or more, with those who have been waiting for longer than a year being prioritised.\\n\"Once the plan has been agreed, we will be contacting these patients. The CCGs are working in collaboration with Millbrook Healthcare to review the on-going demands on the service.\"\\nMargate man believed to be Canterbury shooting victim\\nMelissa vs Matthew: Freedom of choice to wear the burka?\\nCllr Barry Lewis\\nCcg is not fit for purpose, nearly everything they are involved in is in crisis including hospitals and doctor surgeries\\nCllr Karen Constantine\\nThis is what happens when you outsource contracts in the NHS. As Professor Mike Oliver says \\'the worst experience in 56 years\\'. You simply cannot put profit before people. The Conservative\\'s are crying crocodile tears. It is their own Governments policies that they are implementing.\\nOlubunmi Babatunde\\nI was TUPE over to Millbrook. I am a rehabilitation engineer who used to work for Kings College NHS foundation trust. I am very happy I\\'ll be leaving Millbrook back to nhs in a week time because I don\\'t want to lose my registration or possibly go to prison as I am the only technical competence person in Ashford. I believe Millbrook cannot perform or provide good service to our dear clients who had already lost at least 65% of their lives to disabilities. The management is full of lies. They are after money they could made from vulnerable people. Bad equipment – unsafe ultimate wheelchairs, bad services and some non qualified staffs. When at Kings, we were 7 qualified and registered rehabilitation engineers including our head of department before the so call TUPE. 2 of us were tupe over for clients of over 30000. The don\\'t worry about this because it save them money. All their managers know nothing about the wheelchair services. The director of wheelchair service is a nurse by profession not even rehabilitation nurse and she is number 1 lier have ever met in my life. They don\\'t treat staffs well, lots of pressure on the staffs especially REs. Before tupe, she promised we\\'ll going to have satellite centres but that is not happening and it is not going to happen. Vulnerable clients are forced to travel about 100miles to attend clinic in Ashford or Gillingham. No more DVs as they are saving money on fuel. No more special school\\'s clinics which is a standard service for nhs.\\nA lot of incidents had happened to clients due to equipment-not- fit for purpose. All ultimate wheelchairs whether power or manual have max user weight of 150kg on them whereas they cannot carry 120kg. Examples are 1. A velocity thrown a client off the chair, this person was on the floor underneath the chair for good 4 hrs before he was rescued by his wife, to this company that was not an incident. 2. Another client\\'s gravity wheels and frame buckled on the street, this person weighs 125kg. I wanted to report the incidents to MHRA but i was prevented from doing so, I quarantined but the chair was removed from Ashford to Southampton without my knowledge. Another example was a man with profound disability who also has a partner with complex disability.i was about to go to carry out visit to the man house for a job of less than 30mins. This person lives 1.5 miles from where I live,my route to and fro work. I was nearly crucified for this as the therapist lead claimed I am wasting their money. I will have to bring the person to clinic in Ashford, return journey of 70miles.\\nThey believe wheelchair service is another business like refurbishing No 10 Downing Street and other businesses.\\nThey have advertised for my job for band 5/6. A lot of Rehabilitation engineers are band 6 and not band 5. They are going to employ another useless non competence person for the job. I\\'m in their good book because I don\\'t compromise the safety of my clients with their business thing. Their statement is always \\'we are in business. This company is too luck that they have not kill any client yet due to the use of those useless equipment, but if things continue in this way May God help the service users.\\nKeefogs\\nWe need to review ALL these outsourced contracts , not just in the NHS, but in all the other publically-owned services eg catering in schools, maintenance of Council/Housing Association properties or the bin collections. For too long, private Corporations have been treating the tax-payers like slot machines. They charge the earth for doing what the council always used to do, then cream a few million quid off the top for the Managing Director and his main shareholders, pausing only to tell the workforce that they can\\'t afford a pay rise again this year, before moving on to tell the public that, regretfully, their costs are going up so could they pay more rates and taxes but to expect a lower level of service in future. We voted for this!! Words like \"Turkeys\" , \"voting\" and \"Christmas\" come to mind.',\n",
       "       \"Compare ours to other chalk paint....you WON'T be disappointed!! When you look at blueberry, you will see a beautiful periwinkle blue gray......soft periwinkle, its a calming color. It comes in 8 oz, 16 oz and 32 oz sizes just the same as all of our beautiful chalk mineral paint color. Use this to create some fun creations.\",\n",
       "       ...,\n",
       "       \"Our spectrometer rental program is very easy. We rent systems by the week or month. You pay for shipping both ways, typically by UPS ground. Your rental starts when you get the system and after the rental period you send it back.\\nIf you want to purchase a system, we'll apply your rent towards the purchase price (up to 50% of purchase price).\\nRenting is ideal for short term projects, feasibility testing, or to get familiar with the equipment or techniques before buying a system.\\nWe have systems for all kinds of spectroscopic analysis, oxygen sensors, wavelength standards and radiometric calibrations. If you need something slightly different let us know, we may have the parts and expertise to put something together for you.\\nWe also sell supplies – such as cuvettes, pipettes, reflection standards etc that you may need for your work.\\nWe also rent optical oxygen sensors, wavelength calibration lamps, and irradiance calibration lamps.\",\n",
       "       'Simplified geology of Teide. Thick gray dashed lines show the location of rift zones as proposed by Carracedo (1994). Orotava and Guimar formed as large pieces of the island were removed by landslides. The landslides are caused by the gravitational instability of the large island.\\nTeide is a stratovolcano capped by the Las Canadas caldera . The caldera is 7-12 miles (12-20 km) in diameter and partial filled by Montana Blanca, Pico Viejo (which has a large explosion crater ), and Pico de Teide. Pico de Teide and other vents of Teide have erupted several times since the island was settled in 1402. The most recent eruption was in 1909. It lasted only ten days, producing lava flows that caused some damage.\\nThe Space Shuttle radar experiment called SIR-C/X-SAR, which flew in October 1994, collected this radar image of Piton del Teide using 5.6 cm (C-Band) and horizontally-transmitted, vertically-received (C-HV) measurements. Areas that are topographically rough or scarps that face the radar are bright in this image. The different numbers mark the locations of the other images presented here and, where given, the arrows show the direction that we are looking.\\nThe northern segment of Teide has experienced several major slumps into the ocean during the past. Looking up from the coast towards the summit of the volcano, one can see the major scarp that forms the edge of the Tigaiga Block .\\nDriving up to the volcano, one of the first view that one gets of the complete cone is quite spectacular, since one can see many of the relatively young flows on the southern flank. The summit of the volcano rises to an elevation of 3,715 meters.\\nUnlike some high volcanoes, it is easy to get to the summit of Teide as there is a cable car that takes you from the caldera floor almost to the summit! From this vantage point, one can look south towards the remnants of an old caldera wall (center) that has now been surrounded by younger lava flows.',\n",
       "       'No Shortage of Stars as PBA Players Championship Shows Get Underway Saturday\\nKent, McEwan Win Team USA Trials; Via, Schwartz Win U.S. Amateur\\nby Gianmarc Manzione January 8, 2016 7:58 am0\\nLAS VEGAS - Marshall Kent of Yakima, Wash., and Danielle McEwan of Stony Point, N.Y., captured the 2016 United States Bowling Congress Team USA Trials titles Thursday, while Chris Via of Springfield, Ohio, and Stephanie Schwartz of Racine, Wis., capped the week with wins at the United States National Amateur Bowling Championships.\\nKent used a second-place performance in Thursday\\'s final qualifying round at Gold Coast Hotel and Casino to win his second Team USA Trials title with a total of 38 ranking points, and McEwan captured her third win at the event with 24 points after an eighth-place finish in the final round.\\nKent and McEwan earned spots on Team USA for the fifth consecutive year and also will have the opportunity to represent the United States at the 2016 QubicaAMF World Cup in Shanghai, China, in October.\\n\"I have been so close the last few years in having a chance to go back to the World Cup and fell just short,\" said Kent, who finished second at the 2012 World Cup in Wroclaw, Poland. \"To be able to come through this week means the world to me. I\\'ve had a bitter taste in my mouth from my last World Cup appearance, and I have been wanting the chance to redeem myself, so now I\\'ll have that opportunity. That\\'s been a goal for the past few years.\"\\nAlso earning automatic spots on Team USA 2016 based on their overall performances at the Team USA Trials were Via, Kamron Doyle of Brentwood, Tenn., Andrew Cain of Phoenix, and A.J. Chapman of Manchester, Iowa.\\nRob Gotchall of Clarksville, Tenn., Ronnie Russell of Marion, Ind., and John Janawicz of Winter Haven, Fla., were selected by the National Selection Committee based on their performances this week.\\nChris Barnes of Double Oak, Texas, Tommy Jones of Simpsonville, S.C., Sean Rash of Montgomery, Ill., and John Szczerbinski of North Tonawanda, N.Y., were selected by the National Selection Committee based on submitted resumes.\\n\"This week has been really unbelievable,\" said McEwan, who also won the 2012 and 2013 Team USA Trials. \"To come out on top is such a great feeling, and being back on Team USA and getting to bowl the World Cup with Marshall is awesome. I think it all hasn\\'t sunk in yet.\"\\nJoining McEwan with automatic spots on Team USA 2016 was Stefanie Johnson of Grand Prairie, Texas, Kelly Kulick of Union, N.J., and Shannon O\\'Keefe of O\\'Fallon, Ill.\\nShannon Pluhowsky of Dayton, Ohio, Erin McCarthy of Omaha, Neb., Josie Earnest of Nashville, Tenn., and Bryanna Cote of Red Rock, Ariz., were selected by the National Selection Committee based on their performances at the Team USA Trials this week.\\nKayla Johnson of Washington, Ill., Brittni Hamilton of Webster, N.Y., and Missy Parkin of Laguna Hills, Calif., were selected by the National Selection Committee based on submitted resumes.\\nSchwartz also earned a spot on Team USA by defeating Heather Penatzer of Tucson, Ariz., in the finals of the women\\'s U.S. Amateur title match, 238-133.\\n\"I just wanted to make good shots and do my best,\" said Schwartz, who has been a member Junior Team USA since 2014. \"It\\'s a great feeling. I\\'ve never won anything this big, so it\\'s really cool. Being able to be on both Team USA and Junior Team USA is incredible.\"\\nVia captured the men\\'s U.S. Amateur title by delivering two strikes in the 10th frame to lock out top-seeded Doyle, the defending Team USA Trials champion, 219-212.\\n\"I knew I had a good look and could make the shot,\" said Via, who was a member of Junior Team USA in 2011 and 2012. \"I just had to zero in, focus and make the best shots possible. It\\'s unbelievable to be on Team USA. Spending time on the Junior Team was amazing, and I\\'ve been wanting this ever since. It\\'s a dream come true.\"\\nPenatzer defeated Jordan Richard of Tipton, Mich., 235-199, to advance to the stepladder final, while Via outlasted Chapman, 279-246, to earn his spot in the men\\'s final.\\nThis week marked the first time the U.S. Amateur Championships has been held in nearly a decade.\\nSome of the nation\\'s top young bowlers also found success at Gold Coast this week, earning spots on Junior Team USA.\\nAutomatic spots on the boys side went to Anthony Simonsen of Princeton, Texas, Wesley Low Jr. of Palmdale, Calif., Matt Russo of Millstone Township, N.J., and Kenneth Ryan of Farmingdale, N.J.\\nMeeco Walker of East Cleveland, Ohio, and Andrew Anderson of Holly, Mich., were selected by the National Selection Committee based on their performances.\\nDoyle, Michael Tang of San Francisco, Cortez Schenck of Phoenix, Thomas Peters of Belleville, Ill., Brandon Biondo of Carpentersville, Ill., and Chad Mee of Hamburg, N.Y., already earned their spots on Junior Team USA 2016 based on their performances at the 2015 Junior Gold Championships.\\nEarning automatic spots on Junior Team USA 2016 for the girls was Schwartz, Penatzer, Haley Richard of Tipton, Mich., and Kayla Crawford of Silvis, Ill.\\nAshley Dunn of Palmdale, Calif., and Gazmine Mason of Cranston, R.I., were selected by the National Selection Committee based on performance.\\nJordan Richard, Breanna Clemmer of Clover, S.C., Hollyann Johansen of Wichita, Kan., Sydney Brummett of Fort Wayne, Ind., Julia Bond of Aurora, Ill., and Sierra Kanemoto of Dayton, Ohio, already earned their spots on Junior Team USA 2016 based on their performances at the 2015 Junior Gold Championships.\\nJames Grago III of Hampstead, North Carolina, led the men\\'s final qualifying round on the 45-foot Rome pattern with a 1,448 total, while O\\'Keefe paced the women with a 1,361 total.\\nThe players this week earned points based on their finishing position in each of the qualifying rounds - the top bowler of the block earned one ranking point, second place in the block earned two points, etc. - with the lowest total of ranking points after five six-game blocks determining the winners.\\nTo be eligible for the U.S. Amateur portion of the event, a bowler must not hold or have held a professional membership (PBA or PWBA) anytime in 2015. Also, anyone who has won a professional title (regional, national or senior) as a professional was not eligible to compete as an amateur.\\nBowlers age 20 or younger as of Jan. 1, 2016 were eligible for spots on Junior Team USA this week.\\nFor more information on the USBC Team USA Trials and U.S. Amateur, visit BOWL.com/TeamUSATrials.\\n2016 USBC Team USA Trials\\nAt Gold Coast Hotel and Casino, Las Vegas\\nTHURSDAY\\'S RESULTS\\nROUND 5 - TOP 20\\n(Position, name, hometown, six-game total)\\n1, James Grago III, Hampstead, N.C., 1,448.\\n2, Marshall Kent, Yakima, Wash., 1,434.\\n3, Rhino Page, Orlando, Fla., 1,428.\\n4, Wesley Low Jr., Palmdale, Calif., 1,394.\\n5, Michael Eaton Jr., Mason, Ohio, 1,390.\\n6, Andrew Cain, Phoenix, 1,382.\\n7, Bryan Dragotta, Selden, N.Y., 1,380.\\n8, Matthew Farber, Plainview, N.Y., 1,373.\\n9, Kenneth Ryan, Farmingdale, N.J., 1,371.\\nT10, Ryan Winters, Livonia, Mich., 1,365.\\nT10, Peter Vergos, Apopka, Fla., 1,365.\\n12, John Janawicz, Winter Haven, Fla., 1,363.\\n13, Zeke Bayt, Henderson, Nev., 1,362.\\n14, Brandon Biondo, Carpentersville, Ill., 1,351.\\n15, Sam Cantrell, Citrus Heights, Calif., 1,347.\\n16, Darren Tang, San Francisco, 1,346.\\n17, Matt Russo, Millstone Township, N.J., 1,345.\\n18, Ronnie Russell, Marion, Ind., 1,342.\\n19, Andrew Anderson, Holly, Mich., 1,339.\\n20, Nick Pate, Inver Grove Heights, Minn., 1,337.\\n1, Shannon O\\'Keefe, O\\'Fallon, Ill., 1,361.\\n2, Shannon Pluhowsky, Dayton, Ohio, 1,336.\\n3, Josie Earnest, Nashville, Tenn., 1,331.\\n4, Randi Speiler, Bodfish, Calif., 1,323.\\n5, Stefanie Johnson, Grand Prairie, Texas, 1,313.\\n6, Holly Harris, Wichita, Kan., 1,294.\\n7, Kayla Crawford, Silvis, Ill., 1,292.\\n8, Danielle McEwan, Stony Point, N.Y., 1,289.\\n9, Kayla Bandy, Salisbury, Md., 1,284.\\n10, Justyne Falbo, Greensburg, Pa., 1,278.\\n11, Mary Wells, Westerville, Ohio, 1,264.\\n12, Erin McCarthy, Omaha, Neb., 1,258.\\n13, Kalynn Carl, Albany, N.Y., 1,255.\\n14, Marina Stever, Mesa, Ariz., 1,243.\\nT15, Kelly Kulick, Union, N.J., 1,241.\\nT15, Emily Notebaert, Rochester, N.Y., 1,241.\\n17, Danyn Terry, Coarsegold, Calif., 1,229.\\n18, Amanda Greene, Romney, W.Va., 1,228.\\n19, Lauren Pate, Inver Grove Heights, Minn., 1,224.\\n20, Elysia Current, Ephrata, Pa., 1,221.\\nOVERALL - TOP 20\\n(Position, name, hometown, total points. Points based on finishing position in each round.)\\n1, Marshall Kent, Yakima, Wash., 38 (13-17-2-4-2).\\n2, Kamron Doyle, Brentwood, Tenn., 62 (2-15-7-16-22).\\n3, Chris Via, Springfield, Ohio, 81 (19-14-3-8-37).\\n4, Andrew Cain, Phoenix, 85 (7-38-13-21-6).\\n5, A.J. Chapman, Manchester, Iowa, 88 (5-4-29-18-32).\\n6, Anthony Simonsen, Princeton, Texas, 90 (7-20-6-28-29).\\n7, Rob Gotchall, Clarksville, Tenn., 93 (12-19-25-5-32).\\n8, Ronnie Russell, Marion, Ind., 107 (30-29-4-26-18).\\n9, Wesley Low Jr., Palmdale, Calif., 122 (11-59-8-40-4).\\n10, Matt Russo, Millstone Township, N.J., 129 (20-62-16-14-17).\\n11, John Janawicz, Winter Haven, Fla., 140 (46-8-42-32-12).\\n12, Michael Tang, San Francisco, 152 (18-17-62-1-54).\\nT13, Zach Hattori, Henderson, Nev., 158 (24-7-1-11-115).\\nT13, Jeff Fehr, Cincinnati, 158 (4-1-12-36-105).\\n15, Michael Eaton Jr., Mason, Ohio, 171 (77-4-68-17-5).\\n16, Matthew Farber, Plainview, N.Y., 172 (40-3-52-69-8).\\n17, A.J. Johnson, Oswego, Ill., 178 (27-9-35-53-54).\\n18, Kenneth Ryan, Farmingdale, N.J., 185 (3-84-50-39-9).\\n19, Nick Kruml, Downers Grove, Ill., 189 (56-36-11-52-34).\\nT20, Brandon Biondo, Carpentersville, Ill., 191 (26-10-24-117-14).\\nT20, Brett Cunningham, Clay, N.Y., 191 (47-33-39-48-24).\\n1, Danielle McEwan, Stony Point, N.Y., 24 (7-2-3-4-8).\\n2, Stefanie Johnson, Grand Prairie, Texas, 36 (3-24-1-5).\\n3, Kelly Kulick, Union, N.J., 56 (19-18-2-2-15).\\n4, Shannon O\\'Keefe, O\\'Fallon, Ill., 61 (17-14-5-24-1).\\n5, Shannon Pluhowsky, Dayton, Ohio, 66 (48-1-9-6-2).\\n6, Erin McCarthy, Omaha, Neb., 78 (33-3-25-5-12).\\n7, Stephanie Schwartz, Racine, Wis., 101 (21-16-4-1-59).\\n8, Bryanna Cote, Red Rock, Ariz., 105 (18-9-39-9-30).\\n9, Jordan Richard, Tipton, Mich., 114 (9-5-6-14-80).\\n10, Heather Penatzer, Tucson, Ariz., 118 (26-23-7-28-34).\\nT11, Taylor Bulthuis, Coral Springs, Fla., 121 (8-22-8-20-63).\\nT11, Haley Richard, Tipton, Mich., 121 (2-28-14-52-25).\\n13, Kayla Crawford, Silvis, Ill., 125 (23-26-26-43-7).\\n14, Josie Earnest, Nashville, Tenn., 126 (1-56-60-6-3).\\n15, Ashley Dunn, Palmdale, Calif., 131 (4-7-27-48-45).\\n16, Amanda Greene, Romney, W.Va., 138 (6-4-41-69-18).\\n17, Ashley Rucker, Bartlesville, Okla., 140 (36-18-20-44-22).\\n18, Elysia Current, Ephrata, Pa., 157 (71-28-13-25-20).\\n19, Gazmine Mason, Cranston, R.I., 164 (27-33-35-39-30).\\n20, Amanda Fry, Antelope, Calif., 165 (30-56-21-34-24).\\nU.S. AMATEUR STEPLADDER FINALS\\nChris Via, Springfield, Ohio, def. AJ Chapman, Manchester, Iowa, 279-246\\nVia def. Kamron Doyle, Brentwood, Tenn., 219-212\\nHeather Penatzer, Tucson, Ariz., def. Jordan Richard, Tipton, Mich., 235-199\\nStephanie Schwartz, Racine, Wis., def. Penatzer, 238-133\\nMcEwan, Kent Lead After Fourth Round at 2016 Team USA Trials\\nUpdated: Liz Johnson, Elysia Current Signed by Turbo\\nU.S. Open Headed to Indianapolis in 2022, USBC Masters Returns to Las Vegas\\nBreaking News / by Gianmarc Manzione - October 25, 2021 7:52 pm\\nUSBC Hall of Famer Elaine Hagin Dies at Age 92\\nBreaking News / by Matt Cannizzaro, USBC Communications - October 5, 2021 12:34 pm\\nJen Higgins Wins IBC Classic for First Career PWBA Tour Title\\nBreaking News / by Matt Cannizzaro, USBC Communications - August 8, 2021 12:46 pm\\nCOVID Forces Bill O\\'Neill Out of PBA Players Championship\\nBreaking News / by Gianmarc Manzione - January 24, 2021 6:18 pm'],\n",
       "      dtype=object)"
      ]
     },
     "execution_count": 3,
     "metadata": {},
     "output_type": "execute_result"
    }
   ],
   "source": [
    "data1['text'].to_numpy()"
   ]
  },
  {
   "cell_type": "code",
   "execution_count": 4,
   "metadata": {},
   "outputs": [
    {
     "name": "stderr",
     "output_type": "stream",
     "text": [
      "100%|██████████| 50/50 [00:41<00:00,  1.20it/s]\n"
     ]
    }
   ],
   "source": [
    "import os\n",
    "from tqdm import tqdm\n",
    "\n",
    "dir_path = \"Revisiting-Vicuna/SlimPajama-6B/data\"\n",
    "data_path = os.listdir(dir_path)\n",
    "train_raw_data, valid_raw_data, test_raw_data = [], [], []\n",
    "\n",
    "for path in tqdm(data_path):\n",
    "    data = pd.read_parquet(os.path.join(dir_path, path))['text'].to_list()\n",
    "    if path[:4] == 'test':\n",
    "        test_raw_data += data\n",
    "    elif path[:5] == 'train':\n",
    "        train_raw_data += data\n",
    "    elif path[:5] == 'valid':\n",
    "        valid_raw_data += data"
   ]
  },
  {
   "cell_type": "code",
   "execution_count": 5,
   "metadata": {},
   "outputs": [
    {
     "data": {
      "text/plain": [
       "(5489000, 9347, 9346)"
      ]
     },
     "execution_count": 5,
     "metadata": {},
     "output_type": "execute_result"
    }
   ],
   "source": [
    "len(train_raw_data), len(valid_raw_data), len(test_raw_data)"
   ]
  },
  {
   "cell_type": "code",
   "execution_count": 8,
   "metadata": {},
   "outputs": [],
   "source": [
    "tokenizer = AutoTokenizer.from_pretrained(\"lmsys/vicuna-7b-v1.5\")\n",
    "train_data_loader = SupervisedDataset(train_raw_data, tokenizer)\n",
    "valid_data_loader = SupervisedDataset(valid_raw_data, tokenizer)\n",
    "test_data_loader = SupervisedDataset(test_raw_data, tokenizer)"
   ]
  },
  {
   "cell_type": "code",
   "execution_count": 7,
   "metadata": {},
   "outputs": [
    {
     "data": {
      "text/plain": [
       "9346"
      ]
     },
     "execution_count": 7,
     "metadata": {},
     "output_type": "execute_result"
    }
   ],
   "source": [
    "test_data_loader.__len__()"
   ]
  },
  {
   "cell_type": "code",
   "execution_count": null,
   "metadata": {},
   "outputs": [],
   "source": []
  }
 ],
 "metadata": {
  "kernelspec": {
   "display_name": "base",
   "language": "python",
   "name": "python3"
  },
  "language_info": {
   "codemirror_mode": {
    "name": "ipython",
    "version": 3
   },
   "file_extension": ".py",
   "mimetype": "text/x-python",
   "name": "python",
   "nbconvert_exporter": "python",
   "pygments_lexer": "ipython3",
   "version": "3.9.18"
  }
 },
 "nbformat": 4,
 "nbformat_minor": 2
}
