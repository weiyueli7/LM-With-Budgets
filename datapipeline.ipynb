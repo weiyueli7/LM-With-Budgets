{
 "cells": [
  {
   "cell_type": "code",
   "execution_count": 1,
   "metadata": {},
   "outputs": [
    {
     "name": "stderr",
     "output_type": "stream",
     "text": [
      "/home/shawn/anaconda3/envs/lovim/lib/python3.9/site-packages/tqdm/auto.py:21: TqdmWarning: IProgress not found. Please update jupyter and ipywidgets. See https://ipywidgets.readthedocs.io/en/stable/user_install.html\n",
      "  from .autonotebook import tqdm as notebook_tqdm\n"
     ]
    }
   ],
   "source": [
    "import datasets\n",
    "from transformers import AutoTokenizer\n",
    "import tqdm as notebook_tqdm\n",
    "!pip install zstandard\n",
    "from datasets import load_dataset\n",
    "from transformers import AutoTokenizer\n",
    "\n",
    "import json\n",
    "import argparse\n",
    "from datasets import load_dataset\n",
    "from transformers import AutoTokenizer, Trainer, TrainingArguments\n",
    "import wandb\n",
    "from transformers import LlamaForCausalLM, LlamaConfig "
   ]
  },
  {
   "cell_type": "code",
   "execution_count": null,
   "metadata": {},
   "outputs": [],
   "source": []
  },
  {
   "cell_type": "code",
   "execution_count": 2,
   "metadata": {},
   "outputs": [
    {
     "name": "stdout",
     "output_type": "stream",
     "text": [
      "Requirement already satisfied: zstandard in /home/shawn/anaconda3/envs/lovim/lib/python3.9/site-packages (0.22.0)\n"
     ]
    },
    {
     "name": "stderr",
     "output_type": "stream",
     "text": [
      "Resolving data files: 100%|██████████| 118332/118332 [00:36<00:00, 3255.68it/s]\n",
      "Resolving data files: 100%|██████████| 31428/31428 [00:00<00:00, 340686.93it/s]\n",
      "Resolving data files: 100%|██████████| 31411/31411 [00:00<00:00, 346325.15it/s]\n"
     ]
    }
   ],
   "source": [
    "\n",
    "\n",
    "def tokenize(MAX_LENGTH=1024, OPTIMAL_NUM_TOKENS=64_000_000, SEED=4, dataset_path=\"cerebras/SlimPajama-627B\", model_name=\"lmsys/vicuna-7b-v1.5\"):\n",
    "    # Load only testing data\n",
    "    raw_datasets = load_dataset(dataset_path, streaming=True)\n",
    "    tokenizer = AutoTokenizer.from_pretrained(model_name)\n",
    "    shuffled_datasets = raw_datasets.shuffle(seed=SEED)\n",
    "\n",
    "    tokenized_datasets = {}\n",
    "    for key in raw_datasets.keys():\n",
    "        tokenized_datasets[key] = shuffled_datasets[key].map(\n",
    "            lambda x: tokenizer(\n",
    "                x[\"text\"],\n",
    "                truncation=True,\n",
    "                padding=\"max_length\",\n",
    "                max_length=MAX_LENGTH,\n",
    "                return_tensors=\"pt\",\n",
    "            )\n",
    "        )\n",
    "\n",
    "    return tokenized_datasets\n",
    "\n",
    "data = tokenize()"
   ]
  },
  {
   "cell_type": "code",
   "execution_count": null,
   "metadata": {},
   "outputs": [],
   "source": []
  },
  {
   "cell_type": "code",
   "execution_count": 3,
   "metadata": {},
   "outputs": [
    {
     "data": {
      "text/plain": [
       "{'text': \"I do think at this point you want Hoses item, so that you are within the proper weblog. Now you are examining BrassCraft CSSD45E-72 P 1/2-Inch MIP EFV x 1/2-Inch FIP x 72 In.Safety+PLUS Gas Appliance Connector, 1/2-Inch OD 49,100 BTU post. Along with Lets hope you will discover worthwhile details in below prior to buy Hoses product. At the moment I wish to reveal BrassCraft CSSD45E-72 P 1/2-Inch MIP EFV x 1/2-Inch FIP x 72 In.Safety+PLUS Gas Appliance Connector, 1/2-Inch OD 49,100 BTU. Little information that this BrassCraft CSSD45E-72 P 1/2-Inch MIP EFV x 1/2-Inch FIP x 72 In.Safety+PLUS Gas Appliance Connector, 1/2-Inch OD 49,100 BTU merchandise is done by means of BrassCraft Mfg firm.\\nBrass Craft's 1/2 In. MIP EFV x 1/2 In. FIP x 72 In. Safety+PLUS Gas Appliance Connector is 1/2 In. OD (3/8 In. ID) with a maximum operating capacity of 49,100 BTU's. This Safety+PLUS gas connector combines excess flow technology with the advanced corrosion resistance of Recoat, to provide a safer gas connector for home and family. In the event of a gas line rupture or disconnect, the Safety+PLUS valve restricts gas flow at the appliance to a non-hazardous level. This immediate action helps avert the potential for a dangerous release of gas into the home. Our stainless steel gas connector is protected with a proprietary polymer coating designed to withstand prolonged exposure to harsh household cleaning, plumbing repair and masonry products. Recoat coating is applied to the corrugated stainless steel connector using advanced powder-coat technology. Unlike conventional dipped or sprayed coatings, the Recoat coating is baked directly on the connector surface at high temperatures to provide a uniform coating over the entire length of the connector. The coating is applied only after the connector has been 100% leak tested, prior to nut and fitting assembly. This process results in the most complete corrosion resistance available.\\nFor more info in relation to BrassCraft CSSD45E-72 P 1/2-Inch MIP EFV x 1/2-Inch FIP x 72 In.Safety+PLUS Gas Appliance Connector, 1/2-Inch OD 49,100 BTU price tag and reviews, you'll be able to click THIS LINK . I hope this specific article will let you to consider throughout getting of BrassCraft CSSD45E-72 P 1/2-Inch MIP EFV x 1/2-Inch FIP x 72 In.Safety+PLUS Gas Appliance Connector, 1/2-Inch OD 49,100 BTU item. Or perhaps hopefully in which on this submit you to uncover various other product that may be comparable with BrassCraft CSSD45E-72 P 1/2-Inch MIP EFV x 1/2-Inch FIP x 72 In.Safety+PLUS Gas Appliance Connector, 1/2-Inch OD 49,100 BTU or even better.\\nAfter you understand this specific BrassCraft CSSD45E-72 P 1/2-Inch MIP EFV x 1/2-Inch FIP x 72 In.Safety+PLUS Gas Appliance Connector, 1/2-Inch OD 49,100 BTU, all of us be expecting this BrassCraft CSSD45E-72 P 1/2-Inch MIP EFV x 1/2-Inch FIP x 72 In.Safety+PLUS Gas Appliance Connector, 1/2-Inch OD 49,100 BTU product is usually compatible for you. If you believe anyone nevertheless ought to find merchandise in addition to BrassCraft CSSD45E-72 P 1/2-Inch MIP EFV x 1/2-Inch FIP x 72 In.Safety+PLUS Gas Appliance Connector, 1/2-Inch OD 49,100 BTU, you'll be able to check out with every Hoses type or perhaps utilize seek pack with this web site. Then if you're confident to purchase BrassCraft CSSD45E-72 P 1/2-Inch MIP EFV x 1/2-Inch FIP x 72 In.Safety+PLUS Gas Appliance Connector, 1/2-Inch OD 49,100 BTU, make sure you simply click BUY BUTTON under.\",\n",
       " 'meta': {'redpajama_set_name': 'RedPajamaC4'},\n",
       " 'input_ids': tensor([[    1,   306,   437,  ..., 29906, 29899,   797]]),\n",
       " 'attention_mask': tensor([[1, 1, 1,  ..., 1, 1, 1]])}"
      ]
     },
     "execution_count": 3,
     "metadata": {},
     "output_type": "execute_result"
    }
   ],
   "source": [
    "next(iter(data['train']))"
   ]
  },
  {
   "cell_type": "code",
   "execution_count": 4,
   "metadata": {},
   "outputs": [
    {
     "data": {
      "text/plain": [
       "[{'text': \"I do think at this point you want Hoses item, so that you are within the proper weblog. Now you are examining BrassCraft CSSD45E-72 P 1/2-Inch MIP EFV x 1/2-Inch FIP x 72 In.Safety+PLUS Gas Appliance Connector, 1/2-Inch OD 49,100 BTU post. Along with Lets hope you will discover worthwhile details in below prior to buy Hoses product. At the moment I wish to reveal BrassCraft CSSD45E-72 P 1/2-Inch MIP EFV x 1/2-Inch FIP x 72 In.Safety+PLUS Gas Appliance Connector, 1/2-Inch OD 49,100 BTU. Little information that this BrassCraft CSSD45E-72 P 1/2-Inch MIP EFV x 1/2-Inch FIP x 72 In.Safety+PLUS Gas Appliance Connector, 1/2-Inch OD 49,100 BTU merchandise is done by means of BrassCraft Mfg firm.\\nBrass Craft's 1/2 In. MIP EFV x 1/2 In. FIP x 72 In. Safety+PLUS Gas Appliance Connector is 1/2 In. OD (3/8 In. ID) with a maximum operating capacity of 49,100 BTU's. This Safety+PLUS gas connector combines excess flow technology with the advanced corrosion resistance of Recoat, to provide a safer gas connector for home and family. In the event of a gas line rupture or disconnect, the Safety+PLUS valve restricts gas flow at the appliance to a non-hazardous level. This immediate action helps avert the potential for a dangerous release of gas into the home. Our stainless steel gas connector is protected with a proprietary polymer coating designed to withstand prolonged exposure to harsh household cleaning, plumbing repair and masonry products. Recoat coating is applied to the corrugated stainless steel connector using advanced powder-coat technology. Unlike conventional dipped or sprayed coatings, the Recoat coating is baked directly on the connector surface at high temperatures to provide a uniform coating over the entire length of the connector. The coating is applied only after the connector has been 100% leak tested, prior to nut and fitting assembly. This process results in the most complete corrosion resistance available.\\nFor more info in relation to BrassCraft CSSD45E-72 P 1/2-Inch MIP EFV x 1/2-Inch FIP x 72 In.Safety+PLUS Gas Appliance Connector, 1/2-Inch OD 49,100 BTU price tag and reviews, you'll be able to click THIS LINK . I hope this specific article will let you to consider throughout getting of BrassCraft CSSD45E-72 P 1/2-Inch MIP EFV x 1/2-Inch FIP x 72 In.Safety+PLUS Gas Appliance Connector, 1/2-Inch OD 49,100 BTU item. Or perhaps hopefully in which on this submit you to uncover various other product that may be comparable with BrassCraft CSSD45E-72 P 1/2-Inch MIP EFV x 1/2-Inch FIP x 72 In.Safety+PLUS Gas Appliance Connector, 1/2-Inch OD 49,100 BTU or even better.\\nAfter you understand this specific BrassCraft CSSD45E-72 P 1/2-Inch MIP EFV x 1/2-Inch FIP x 72 In.Safety+PLUS Gas Appliance Connector, 1/2-Inch OD 49,100 BTU, all of us be expecting this BrassCraft CSSD45E-72 P 1/2-Inch MIP EFV x 1/2-Inch FIP x 72 In.Safety+PLUS Gas Appliance Connector, 1/2-Inch OD 49,100 BTU product is usually compatible for you. If you believe anyone nevertheless ought to find merchandise in addition to BrassCraft CSSD45E-72 P 1/2-Inch MIP EFV x 1/2-Inch FIP x 72 In.Safety+PLUS Gas Appliance Connector, 1/2-Inch OD 49,100 BTU, you'll be able to check out with every Hoses type or perhaps utilize seek pack with this web site. Then if you're confident to purchase BrassCraft CSSD45E-72 P 1/2-Inch MIP EFV x 1/2-Inch FIP x 72 In.Safety+PLUS Gas Appliance Connector, 1/2-Inch OD 49,100 BTU, make sure you simply click BUY BUTTON under.\",\n",
       "  'meta': {'redpajama_set_name': 'RedPajamaC4'},\n",
       "  'input_ids': tensor([[    1,   306,   437,  ..., 29906, 29899,   797]]),\n",
       "  'attention_mask': tensor([[1, 1, 1,  ..., 1, 1, 1]])}]"
      ]
     },
     "execution_count": 4,
     "metadata": {},
     "output_type": "execute_result"
    }
   ],
   "source": [
    "list(data['train'].take(1))"
   ]
  },
  {
   "cell_type": "code",
   "execution_count": 5,
   "metadata": {},
   "outputs": [],
   "source": [
    "with open('configs/config.json', 'r') as file:\n",
    "    config_dict = json.load(file)\n",
    "config = LlamaConfig.from_dict(config_dict)\n",
    "llama2_model = LlamaForCausalLM(config)"
   ]
  },
  {
   "cell_type": "code",
   "execution_count": 6,
   "metadata": {},
   "outputs": [],
   "source": [
    "training_args = TrainingArguments(\n",
    "    output_dir=\"./results\",\n",
    "    num_train_epochs=3,\n",
    "    per_device_train_batch_size=4,\n",
    "    warmup_steps=500,\n",
    "    weight_decay=0.01,\n",
    "    logging_dir='./logs',\n",
    "    logging_steps=10,\n",
    "    max_steps=10000,\n",
    ")"
   ]
  },
  {
   "cell_type": "code",
   "execution_count": 9,
   "metadata": {},
   "outputs": [],
   "source": [
    "tokenizer = AutoTokenizer.from_pretrained('lmsys/vicuna-7b-v1.5')\n",
    "    \n",
    "trainer = Trainer(\n",
    "    model=llama2_model,\n",
    "    args=training_args,\n",
    "    train_dataset=data[\"train\"],\n",
    "    eval_dataset=data[\"validation\"],\n",
    "    # tokenizer=tokenizer,\n",
    "    \n",
    ")"
   ]
  },
  {
   "cell_type": "code",
   "execution_count": 10,
   "metadata": {},
   "outputs": [
    {
     "name": "stderr",
     "output_type": "stream",
     "text": [
      "/home/shawn/anaconda3/envs/lovim/lib/python3.9/site-packages/transformers/optimization.py:411: FutureWarning: This implementation of AdamW is deprecated and will be removed in a future version. Use the PyTorch implementation torch.optim.AdamW instead, or set `no_deprecation_warning=True` to disable this warning\n",
      "  warnings.warn(\n"
     ]
    },
    {
     "ename": "ValueError",
     "evalue": "Caught ValueError in replica 0 on device 0.\nOriginal Traceback (most recent call last):\n  File \"/home/shawn/anaconda3/envs/lovim/lib/python3.9/site-packages/torch/nn/parallel/parallel_apply.py\", line 64, in _worker\n    output = module(*input, **kwargs)\n  File \"/home/shawn/anaconda3/envs/lovim/lib/python3.9/site-packages/torch/nn/modules/module.py\", line 1194, in _call_impl\n    return forward_call(*input, **kwargs)\n  File \"/home/shawn/anaconda3/envs/lovim/lib/python3.9/site-packages/transformers/models/llama/modeling_llama.py\", line 806, in forward\n    outputs = self.model(\n  File \"/home/shawn/anaconda3/envs/lovim/lib/python3.9/site-packages/torch/nn/modules/module.py\", line 1194, in _call_impl\n    return forward_call(*input, **kwargs)\n  File \"/home/shawn/anaconda3/envs/lovim/lib/python3.9/site-packages/transformers/models/llama/modeling_llama.py\", line 623, in forward\n    batch_size, seq_length = input_ids.shape\nValueError: too many values to unpack (expected 2)\n",
     "output_type": "error",
     "traceback": [
      "\u001b[0;31m---------------------------------------------------------------------------\u001b[0m",
      "\u001b[0;31mValueError\u001b[0m                                Traceback (most recent call last)",
      "\u001b[1;32m/home/shawn/nvme/llmAgent_research/wli/Revisiting-Vicuna/datapipeline.ipynb Cell 10\u001b[0m line \u001b[0;36m1\n\u001b[0;32m----> <a href='vscode-notebook-cell://ssh-remote%2B7b22686f73744e616d65223a226d6c50432d41313030227d/home/shawn/nvme/llmAgent_research/wli/Revisiting-Vicuna/datapipeline.ipynb#X16sdnNjb2RlLXJlbW90ZQ%3D%3D?line=0'>1</a>\u001b[0m trainer\u001b[39m.\u001b[39;49mtrain()\n\u001b[1;32m      <a href='vscode-notebook-cell://ssh-remote%2B7b22686f73744e616d65223a226d6c50432d41313030227d/home/shawn/nvme/llmAgent_research/wli/Revisiting-Vicuna/datapipeline.ipynb#X16sdnNjb2RlLXJlbW90ZQ%3D%3D?line=2'>3</a>\u001b[0m eval_results \u001b[39m=\u001b[39m trainer\u001b[39m.\u001b[39mevaluate()\n",
      "File \u001b[0;32m~/anaconda3/envs/lovim/lib/python3.9/site-packages/transformers/trainer.py:1539\u001b[0m, in \u001b[0;36mTrainer.train\u001b[0;34m(self, resume_from_checkpoint, trial, ignore_keys_for_eval, **kwargs)\u001b[0m\n\u001b[1;32m   1534\u001b[0m     \u001b[39mself\u001b[39m\u001b[39m.\u001b[39mmodel_wrapped \u001b[39m=\u001b[39m \u001b[39mself\u001b[39m\u001b[39m.\u001b[39mmodel\n\u001b[1;32m   1536\u001b[0m inner_training_loop \u001b[39m=\u001b[39m find_executable_batch_size(\n\u001b[1;32m   1537\u001b[0m     \u001b[39mself\u001b[39m\u001b[39m.\u001b[39m_inner_training_loop, \u001b[39mself\u001b[39m\u001b[39m.\u001b[39m_train_batch_size, args\u001b[39m.\u001b[39mauto_find_batch_size\n\u001b[1;32m   1538\u001b[0m )\n\u001b[0;32m-> 1539\u001b[0m \u001b[39mreturn\u001b[39;00m inner_training_loop(\n\u001b[1;32m   1540\u001b[0m     args\u001b[39m=\u001b[39;49margs,\n\u001b[1;32m   1541\u001b[0m     resume_from_checkpoint\u001b[39m=\u001b[39;49mresume_from_checkpoint,\n\u001b[1;32m   1542\u001b[0m     trial\u001b[39m=\u001b[39;49mtrial,\n\u001b[1;32m   1543\u001b[0m     ignore_keys_for_eval\u001b[39m=\u001b[39;49mignore_keys_for_eval,\n\u001b[1;32m   1544\u001b[0m )\n",
      "File \u001b[0;32m~/anaconda3/envs/lovim/lib/python3.9/site-packages/transformers/trainer.py:1809\u001b[0m, in \u001b[0;36mTrainer._inner_training_loop\u001b[0;34m(self, batch_size, args, resume_from_checkpoint, trial, ignore_keys_for_eval)\u001b[0m\n\u001b[1;32m   1806\u001b[0m     \u001b[39mself\u001b[39m\u001b[39m.\u001b[39mcontrol \u001b[39m=\u001b[39m \u001b[39mself\u001b[39m\u001b[39m.\u001b[39mcallback_handler\u001b[39m.\u001b[39mon_step_begin(args, \u001b[39mself\u001b[39m\u001b[39m.\u001b[39mstate, \u001b[39mself\u001b[39m\u001b[39m.\u001b[39mcontrol)\n\u001b[1;32m   1808\u001b[0m \u001b[39mwith\u001b[39;00m \u001b[39mself\u001b[39m\u001b[39m.\u001b[39maccelerator\u001b[39m.\u001b[39maccumulate(model):\n\u001b[0;32m-> 1809\u001b[0m     tr_loss_step \u001b[39m=\u001b[39m \u001b[39mself\u001b[39;49m\u001b[39m.\u001b[39;49mtraining_step(model, inputs)\n\u001b[1;32m   1811\u001b[0m \u001b[39mif\u001b[39;00m (\n\u001b[1;32m   1812\u001b[0m     args\u001b[39m.\u001b[39mlogging_nan_inf_filter\n\u001b[1;32m   1813\u001b[0m     \u001b[39mand\u001b[39;00m \u001b[39mnot\u001b[39;00m is_torch_tpu_available()\n\u001b[1;32m   1814\u001b[0m     \u001b[39mand\u001b[39;00m (torch\u001b[39m.\u001b[39misnan(tr_loss_step) \u001b[39mor\u001b[39;00m torch\u001b[39m.\u001b[39misinf(tr_loss_step))\n\u001b[1;32m   1815\u001b[0m ):\n\u001b[1;32m   1816\u001b[0m     \u001b[39m# if loss is nan or inf simply add the average of previous logged losses\u001b[39;00m\n\u001b[1;32m   1817\u001b[0m     tr_loss \u001b[39m+\u001b[39m\u001b[39m=\u001b[39m tr_loss \u001b[39m/\u001b[39m (\u001b[39m1\u001b[39m \u001b[39m+\u001b[39m \u001b[39mself\u001b[39m\u001b[39m.\u001b[39mstate\u001b[39m.\u001b[39mglobal_step \u001b[39m-\u001b[39m \u001b[39mself\u001b[39m\u001b[39m.\u001b[39m_globalstep_last_logged)\n",
      "File \u001b[0;32m~/anaconda3/envs/lovim/lib/python3.9/site-packages/transformers/trainer.py:2654\u001b[0m, in \u001b[0;36mTrainer.training_step\u001b[0;34m(self, model, inputs)\u001b[0m\n\u001b[1;32m   2651\u001b[0m     \u001b[39mreturn\u001b[39;00m loss_mb\u001b[39m.\u001b[39mreduce_mean()\u001b[39m.\u001b[39mdetach()\u001b[39m.\u001b[39mto(\u001b[39mself\u001b[39m\u001b[39m.\u001b[39margs\u001b[39m.\u001b[39mdevice)\n\u001b[1;32m   2653\u001b[0m \u001b[39mwith\u001b[39;00m \u001b[39mself\u001b[39m\u001b[39m.\u001b[39mcompute_loss_context_manager():\n\u001b[0;32m-> 2654\u001b[0m     loss \u001b[39m=\u001b[39m \u001b[39mself\u001b[39;49m\u001b[39m.\u001b[39;49mcompute_loss(model, inputs)\n\u001b[1;32m   2656\u001b[0m \u001b[39mif\u001b[39;00m \u001b[39mself\u001b[39m\u001b[39m.\u001b[39margs\u001b[39m.\u001b[39mn_gpu \u001b[39m>\u001b[39m \u001b[39m1\u001b[39m:\n\u001b[1;32m   2657\u001b[0m     loss \u001b[39m=\u001b[39m loss\u001b[39m.\u001b[39mmean()  \u001b[39m# mean() to average on multi-gpu parallel training\u001b[39;00m\n",
      "File \u001b[0;32m~/anaconda3/envs/lovim/lib/python3.9/site-packages/transformers/trainer.py:2679\u001b[0m, in \u001b[0;36mTrainer.compute_loss\u001b[0;34m(self, model, inputs, return_outputs)\u001b[0m\n\u001b[1;32m   2677\u001b[0m \u001b[39melse\u001b[39;00m:\n\u001b[1;32m   2678\u001b[0m     labels \u001b[39m=\u001b[39m \u001b[39mNone\u001b[39;00m\n\u001b[0;32m-> 2679\u001b[0m outputs \u001b[39m=\u001b[39m model(\u001b[39m*\u001b[39;49m\u001b[39m*\u001b[39;49minputs)\n\u001b[1;32m   2680\u001b[0m \u001b[39m# Save past state if it exists\u001b[39;00m\n\u001b[1;32m   2681\u001b[0m \u001b[39m# TODO: this needs to be fixed and made cleaner later.\u001b[39;00m\n\u001b[1;32m   2682\u001b[0m \u001b[39mif\u001b[39;00m \u001b[39mself\u001b[39m\u001b[39m.\u001b[39margs\u001b[39m.\u001b[39mpast_index \u001b[39m>\u001b[39m\u001b[39m=\u001b[39m \u001b[39m0\u001b[39m:\n",
      "File \u001b[0;32m~/anaconda3/envs/lovim/lib/python3.9/site-packages/torch/nn/modules/module.py:1194\u001b[0m, in \u001b[0;36mModule._call_impl\u001b[0;34m(self, *input, **kwargs)\u001b[0m\n\u001b[1;32m   1190\u001b[0m \u001b[39m# If we don't have any hooks, we want to skip the rest of the logic in\u001b[39;00m\n\u001b[1;32m   1191\u001b[0m \u001b[39m# this function, and just call forward.\u001b[39;00m\n\u001b[1;32m   1192\u001b[0m \u001b[39mif\u001b[39;00m \u001b[39mnot\u001b[39;00m (\u001b[39mself\u001b[39m\u001b[39m.\u001b[39m_backward_hooks \u001b[39mor\u001b[39;00m \u001b[39mself\u001b[39m\u001b[39m.\u001b[39m_forward_hooks \u001b[39mor\u001b[39;00m \u001b[39mself\u001b[39m\u001b[39m.\u001b[39m_forward_pre_hooks \u001b[39mor\u001b[39;00m _global_backward_hooks\n\u001b[1;32m   1193\u001b[0m         \u001b[39mor\u001b[39;00m _global_forward_hooks \u001b[39mor\u001b[39;00m _global_forward_pre_hooks):\n\u001b[0;32m-> 1194\u001b[0m     \u001b[39mreturn\u001b[39;00m forward_call(\u001b[39m*\u001b[39;49m\u001b[39minput\u001b[39;49m, \u001b[39m*\u001b[39;49m\u001b[39m*\u001b[39;49mkwargs)\n\u001b[1;32m   1195\u001b[0m \u001b[39m# Do not call functions when jit is used\u001b[39;00m\n\u001b[1;32m   1196\u001b[0m full_backward_hooks, non_full_backward_hooks \u001b[39m=\u001b[39m [], []\n",
      "File \u001b[0;32m~/anaconda3/envs/lovim/lib/python3.9/site-packages/torch/nn/parallel/data_parallel.py:171\u001b[0m, in \u001b[0;36mDataParallel.forward\u001b[0;34m(self, *inputs, **kwargs)\u001b[0m\n\u001b[1;32m    169\u001b[0m     \u001b[39mreturn\u001b[39;00m \u001b[39mself\u001b[39m\u001b[39m.\u001b[39mmodule(\u001b[39m*\u001b[39minputs[\u001b[39m0\u001b[39m], \u001b[39m*\u001b[39m\u001b[39m*\u001b[39mkwargs[\u001b[39m0\u001b[39m])\n\u001b[1;32m    170\u001b[0m replicas \u001b[39m=\u001b[39m \u001b[39mself\u001b[39m\u001b[39m.\u001b[39mreplicate(\u001b[39mself\u001b[39m\u001b[39m.\u001b[39mmodule, \u001b[39mself\u001b[39m\u001b[39m.\u001b[39mdevice_ids[:\u001b[39mlen\u001b[39m(inputs)])\n\u001b[0;32m--> 171\u001b[0m outputs \u001b[39m=\u001b[39m \u001b[39mself\u001b[39;49m\u001b[39m.\u001b[39;49mparallel_apply(replicas, inputs, kwargs)\n\u001b[1;32m    172\u001b[0m \u001b[39mreturn\u001b[39;00m \u001b[39mself\u001b[39m\u001b[39m.\u001b[39mgather(outputs, \u001b[39mself\u001b[39m\u001b[39m.\u001b[39moutput_device)\n",
      "File \u001b[0;32m~/anaconda3/envs/lovim/lib/python3.9/site-packages/torch/nn/parallel/data_parallel.py:181\u001b[0m, in \u001b[0;36mDataParallel.parallel_apply\u001b[0;34m(self, replicas, inputs, kwargs)\u001b[0m\n\u001b[1;32m    180\u001b[0m \u001b[39mdef\u001b[39;00m \u001b[39mparallel_apply\u001b[39m(\u001b[39mself\u001b[39m, replicas, inputs, kwargs):\n\u001b[0;32m--> 181\u001b[0m     \u001b[39mreturn\u001b[39;00m parallel_apply(replicas, inputs, kwargs, \u001b[39mself\u001b[39;49m\u001b[39m.\u001b[39;49mdevice_ids[:\u001b[39mlen\u001b[39;49m(replicas)])\n",
      "File \u001b[0;32m~/anaconda3/envs/lovim/lib/python3.9/site-packages/torch/nn/parallel/parallel_apply.py:89\u001b[0m, in \u001b[0;36mparallel_apply\u001b[0;34m(modules, inputs, kwargs_tup, devices)\u001b[0m\n\u001b[1;32m     87\u001b[0m     output \u001b[39m=\u001b[39m results[i]\n\u001b[1;32m     88\u001b[0m     \u001b[39mif\u001b[39;00m \u001b[39misinstance\u001b[39m(output, ExceptionWrapper):\n\u001b[0;32m---> 89\u001b[0m         output\u001b[39m.\u001b[39;49mreraise()\n\u001b[1;32m     90\u001b[0m     outputs\u001b[39m.\u001b[39mappend(output)\n\u001b[1;32m     91\u001b[0m \u001b[39mreturn\u001b[39;00m outputs\n",
      "File \u001b[0;32m~/anaconda3/envs/lovim/lib/python3.9/site-packages/torch/_utils.py:543\u001b[0m, in \u001b[0;36mExceptionWrapper.reraise\u001b[0;34m(self)\u001b[0m\n\u001b[1;32m    539\u001b[0m \u001b[39mexcept\u001b[39;00m \u001b[39mTypeError\u001b[39;00m:\n\u001b[1;32m    540\u001b[0m     \u001b[39m# If the exception takes multiple arguments, don't try to\u001b[39;00m\n\u001b[1;32m    541\u001b[0m     \u001b[39m# instantiate since we don't know how to\u001b[39;00m\n\u001b[1;32m    542\u001b[0m     \u001b[39mraise\u001b[39;00m \u001b[39mRuntimeError\u001b[39;00m(msg) \u001b[39mfrom\u001b[39;00m \u001b[39mNone\u001b[39;00m\n\u001b[0;32m--> 543\u001b[0m \u001b[39mraise\u001b[39;00m exception\n",
      "\u001b[0;31mValueError\u001b[0m: Caught ValueError in replica 0 on device 0.\nOriginal Traceback (most recent call last):\n  File \"/home/shawn/anaconda3/envs/lovim/lib/python3.9/site-packages/torch/nn/parallel/parallel_apply.py\", line 64, in _worker\n    output = module(*input, **kwargs)\n  File \"/home/shawn/anaconda3/envs/lovim/lib/python3.9/site-packages/torch/nn/modules/module.py\", line 1194, in _call_impl\n    return forward_call(*input, **kwargs)\n  File \"/home/shawn/anaconda3/envs/lovim/lib/python3.9/site-packages/transformers/models/llama/modeling_llama.py\", line 806, in forward\n    outputs = self.model(\n  File \"/home/shawn/anaconda3/envs/lovim/lib/python3.9/site-packages/torch/nn/modules/module.py\", line 1194, in _call_impl\n    return forward_call(*input, **kwargs)\n  File \"/home/shawn/anaconda3/envs/lovim/lib/python3.9/site-packages/transformers/models/llama/modeling_llama.py\", line 623, in forward\n    batch_size, seq_length = input_ids.shape\nValueError: too many values to unpack (expected 2)\n"
     ]
    }
   ],
   "source": [
    "trainer.train()\n",
    "\n",
    "eval_results = trainer.evaluate()"
   ]
  },
  {
   "cell_type": "code",
   "execution_count": null,
   "metadata": {},
   "outputs": [],
   "source": [
    "data"
   ]
  },
  {
   "cell_type": "code",
   "execution_count": 2,
   "metadata": {},
   "outputs": [],
   "source": [
    "MAX_LENGTH = 1024\n",
    "OPTIMAL_NUM_TOKENS = 64_000_000\n",
    "SEED = 42"
   ]
  },
  {
   "cell_type": "code",
   "execution_count": 3,
   "metadata": {},
   "outputs": [
    {
     "data": {
      "application/vnd.jupyter.widget-view+json": {
       "model_id": "9cc8e9a7819f4bf98adefb9b95cd031d",
       "version_major": 2,
       "version_minor": 0
      },
      "text/plain": [
       "Resolving data files:   0%|          | 0/118332 [00:00<?, ?it/s]"
      ]
     },
     "metadata": {},
     "output_type": "display_data"
    },
    {
     "data": {
      "application/vnd.jupyter.widget-view+json": {
       "model_id": "b6482971639842f497de47097e2b6304",
       "version_major": 2,
       "version_minor": 0
      },
      "text/plain": [
       "Resolving data files:   0%|          | 0/31428 [00:00<?, ?it/s]"
      ]
     },
     "metadata": {},
     "output_type": "display_data"
    },
    {
     "data": {
      "application/vnd.jupyter.widget-view+json": {
       "model_id": "76c0fd773ef34b87816eb848f45dfcce",
       "version_major": 2,
       "version_minor": 0
      },
      "text/plain": [
       "Resolving data files:   0%|          | 0/31411 [00:00<?, ?it/s]"
      ]
     },
     "metadata": {},
     "output_type": "display_data"
    }
   ],
   "source": [
    "raw_datasets = datasets.load_dataset(\"cerebras/SlimPajama-627B\", streaming=True)\n",
    "tokenizer = AutoTokenizer.from_pretrained(\"lmsys/vicuna-7b-v1.5\")"
   ]
  },
  {
   "cell_type": "code",
   "execution_count": 4,
   "metadata": {},
   "outputs": [],
   "source": [
    "shuffled_dataset = raw_datasets.shuffle(seed=SEED)"
   ]
  },
  {
   "cell_type": "code",
   "execution_count": 5,
   "metadata": {},
   "outputs": [],
   "source": [
    "tokenized_dataset = {}\n",
    "for key in raw_datasets.keys():\n",
    "    tokenized_dataset[key] = shuffled_dataset[key].map(\n",
    "        lambda x: tokenizer(\n",
    "            x[\"text\"],\n",
    "            truncation=True,\n",
    "            padding=\"max_length\",\n",
    "            max_length=MAX_LENGTH,\n",
    "            return_tensors=\"pt\",\n",
    "        )\n",
    "    )"
   ]
  },
  {
   "cell_type": "code",
   "execution_count": 6,
   "metadata": {},
   "outputs": [
    {
     "name": "stdout",
     "output_type": "stream",
     "text": [
      "{'text': \"If you were frustrated by third-party office application on your Symbian Belle phones, here's some good news for you. Nokia has just announced that users on their Belle platform can now user Microsoft Office Mobile apps on their phones now. This came out of the blue since most of us expected Microsoft's Office apps to be available exclusively on Nokia's Lumia phone series powered by Windows Phone. It's a good thing to see that Nokia-Microsoft partnership doesn't stop there, and is inclusive of Nokia's 'other' platform as well.\\nMicrosoft Exchange Active Sync – To sync contacts, calendars and email from your company's Exchange Servers directly to your phone.\\nMicrosoft Document Connect – To get access and work on your Word, PowerPoint and Excel files and access your company's SharePoint sites.\\nMicrosoft One Note – allows you to create notes on your phone and sync them to Skydrive allowing you to access them from the PC as well.\\nMicrosoft Lync – lets you join IM chats and audio meetings to take your office conversations on the move.\\nPretty much all you need to work on the go. Microsoft Office Mobile apps is currently supported on the following Symbian Devices – Nokia 700, 701, E7, C7, X7, 603, C6-01 and Nokia Oro. Support for the Nokia N8, E6 and 500 will be announced in the coming weeks. Nokia PureView 808 will come with these apps pre-loaded.\\nYou can get more information on how to set up Microsoft Office Mobile apps for your phone from Nokia's Belle Setup guide and more information on other Microsoft Productivity apps for Nokia phones from the Nokia for Business site.\", 'meta': {'redpajama_set_name': 'RedPajamaC4'}}\n"
     ]
    }
   ],
   "source": [
    "for data in shuffled_dataset['train']:\n",
    "    print(data)\n",
    "    break"
   ]
  },
  {
   "cell_type": "code",
   "execution_count": 7,
   "metadata": {},
   "outputs": [
    {
     "name": "stdout",
     "output_type": "stream",
     "text": [
      "{'text': \"If you were frustrated by third-party office application on your Symbian Belle phones, here's some good news for you. Nokia has just announced that users on their Belle platform can now user Microsoft Office Mobile apps on their phones now. This came out of the blue since most of us expected Microsoft's Office apps to be available exclusively on Nokia's Lumia phone series powered by Windows Phone. It's a good thing to see that Nokia-Microsoft partnership doesn't stop there, and is inclusive of Nokia's 'other' platform as well.\\nMicrosoft Exchange Active Sync – To sync contacts, calendars and email from your company's Exchange Servers directly to your phone.\\nMicrosoft Document Connect – To get access and work on your Word, PowerPoint and Excel files and access your company's SharePoint sites.\\nMicrosoft One Note – allows you to create notes on your phone and sync them to Skydrive allowing you to access them from the PC as well.\\nMicrosoft Lync – lets you join IM chats and audio meetings to take your office conversations on the move.\\nPretty much all you need to work on the go. Microsoft Office Mobile apps is currently supported on the following Symbian Devices – Nokia 700, 701, E7, C7, X7, 603, C6-01 and Nokia Oro. Support for the Nokia N8, E6 and 500 will be announced in the coming weeks. Nokia PureView 808 will come with these apps pre-loaded.\\nYou can get more information on how to set up Microsoft Office Mobile apps for your phone from Nokia's Belle Setup guide and more information on other Microsoft Productivity apps for Nokia phones from the Nokia for Business site.\", 'meta': {'redpajama_set_name': 'RedPajamaC4'}, 'input_ids': tensor([[  1, 960, 366,  ...,   0,   0,   0]]), 'attention_mask': tensor([[1, 1, 1,  ..., 0, 0, 0]])}\n"
     ]
    }
   ],
   "source": [
    "for data in tokenized_dataset['train']:\n",
    "    print(data)\n",
    "    break"
   ]
  },
  {
   "cell_type": "code",
   "execution_count": 8,
   "metadata": {},
   "outputs": [
    {
     "data": {
      "text/plain": [
       "[{'text': \"If you were frustrated by third-party office application on your Symbian Belle phones, here's some good news for you. Nokia has just announced that users on their Belle platform can now user Microsoft Office Mobile apps on their phones now. This came out of the blue since most of us expected Microsoft's Office apps to be available exclusively on Nokia's Lumia phone series powered by Windows Phone. It's a good thing to see that Nokia-Microsoft partnership doesn't stop there, and is inclusive of Nokia's 'other' platform as well.\\nMicrosoft Exchange Active Sync – To sync contacts, calendars and email from your company's Exchange Servers directly to your phone.\\nMicrosoft Document Connect – To get access and work on your Word, PowerPoint and Excel files and access your company's SharePoint sites.\\nMicrosoft One Note – allows you to create notes on your phone and sync them to Skydrive allowing you to access them from the PC as well.\\nMicrosoft Lync – lets you join IM chats and audio meetings to take your office conversations on the move.\\nPretty much all you need to work on the go. Microsoft Office Mobile apps is currently supported on the following Symbian Devices – Nokia 700, 701, E7, C7, X7, 603, C6-01 and Nokia Oro. Support for the Nokia N8, E6 and 500 will be announced in the coming weeks. Nokia PureView 808 will come with these apps pre-loaded.\\nYou can get more information on how to set up Microsoft Office Mobile apps for your phone from Nokia's Belle Setup guide and more information on other Microsoft Productivity apps for Nokia phones from the Nokia for Business site.\",\n",
       "  'meta': {'redpajama_set_name': 'RedPajamaC4'},\n",
       "  'input_ids': tensor([[  1, 960, 366,  ...,   0,   0,   0]]),\n",
       "  'attention_mask': tensor([[1, 1, 1,  ..., 0, 0, 0]])}]"
      ]
     },
     "execution_count": 8,
     "metadata": {},
     "output_type": "execute_result"
    }
   ],
   "source": [
    "list(tokenized_dataset['train'].take(1))"
   ]
  }
 ],
 "metadata": {
  "kernelspec": {
   "display_name": "Python 3",
   "language": "python",
   "name": "python3"
  },
  "language_info": {
   "codemirror_mode": {
    "name": "ipython",
    "version": 3
   },
   "file_extension": ".py",
   "mimetype": "text/x-python",
   "name": "python",
   "nbconvert_exporter": "python",
   "pygments_lexer": "ipython3",
   "version": "3.9.17"
  }
 },
 "nbformat": 4,
 "nbformat_minor": 2
}
