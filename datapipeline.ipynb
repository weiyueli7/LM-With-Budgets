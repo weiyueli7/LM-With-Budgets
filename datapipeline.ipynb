{
 "cells": [
  {
   "cell_type": "code",
   "execution_count": 1,
   "metadata": {},
   "outputs": [],
   "source": [
    "import datasets\n",
    "from transformers import AutoTokenizer\n",
    "import tqdm as notebook_tqdm"
   ]
  },
  {
   "cell_type": "code",
   "execution_count": 2,
   "metadata": {},
   "outputs": [],
   "source": [
    "MAX_LENGTH = 1024\n",
    "OPTIMAL_NUM_TOKENS = 64_000_000\n",
    "SEED = 42"
   ]
  },
  {
   "cell_type": "code",
   "execution_count": 3,
   "metadata": {},
   "outputs": [
    {
     "data": {
      "application/vnd.jupyter.widget-view+json": {
       "model_id": "9cc8e9a7819f4bf98adefb9b95cd031d",
       "version_major": 2,
       "version_minor": 0
      },
      "text/plain": [
       "Resolving data files:   0%|          | 0/118332 [00:00<?, ?it/s]"
      ]
     },
     "metadata": {},
     "output_type": "display_data"
    },
    {
     "data": {
      "application/vnd.jupyter.widget-view+json": {
       "model_id": "b6482971639842f497de47097e2b6304",
       "version_major": 2,
       "version_minor": 0
      },
      "text/plain": [
       "Resolving data files:   0%|          | 0/31428 [00:00<?, ?it/s]"
      ]
     },
     "metadata": {},
     "output_type": "display_data"
    },
    {
     "data": {
      "application/vnd.jupyter.widget-view+json": {
       "model_id": "76c0fd773ef34b87816eb848f45dfcce",
       "version_major": 2,
       "version_minor": 0
      },
      "text/plain": [
       "Resolving data files:   0%|          | 0/31411 [00:00<?, ?it/s]"
      ]
     },
     "metadata": {},
     "output_type": "display_data"
    }
   ],
   "source": [
    "raw_datasets = datasets.load_dataset(\"cerebras/SlimPajama-627B\", streaming=True)\n",
    "tokenizer = AutoTokenizer.from_pretrained(\"lmsys/vicuna-7b-v1.5\")"
   ]
  },
  {
   "cell_type": "code",
   "execution_count": 4,
   "metadata": {},
   "outputs": [],
   "source": [
    "shuffled_dataset = raw_datasets.shuffle(seed=SEED)"
   ]
  },
  {
   "cell_type": "code",
   "execution_count": 5,
   "metadata": {},
   "outputs": [],
   "source": [
    "tokenized_dataset = {}\n",
    "for key in raw_datasets.keys():\n",
    "    tokenized_dataset[key] = shuffled_dataset[key].map(\n",
    "        lambda x: tokenizer(\n",
    "            x[\"text\"],\n",
    "            truncation=True,\n",
    "            padding=\"max_length\",\n",
    "            max_length=MAX_LENGTH,\n",
    "            return_tensors=\"pt\",\n",
    "        )\n",
    "    )"
   ]
  },
  {
   "cell_type": "code",
   "execution_count": 6,
   "metadata": {},
   "outputs": [
    {
     "name": "stdout",
     "output_type": "stream",
     "text": [
      "{'text': \"If you were frustrated by third-party office application on your Symbian Belle phones, here's some good news for you. Nokia has just announced that users on their Belle platform can now user Microsoft Office Mobile apps on their phones now. This came out of the blue since most of us expected Microsoft's Office apps to be available exclusively on Nokia's Lumia phone series powered by Windows Phone. It's a good thing to see that Nokia-Microsoft partnership doesn't stop there, and is inclusive of Nokia's 'other' platform as well.\\nMicrosoft Exchange Active Sync – To sync contacts, calendars and email from your company's Exchange Servers directly to your phone.\\nMicrosoft Document Connect – To get access and work on your Word, PowerPoint and Excel files and access your company's SharePoint sites.\\nMicrosoft One Note – allows you to create notes on your phone and sync them to Skydrive allowing you to access them from the PC as well.\\nMicrosoft Lync – lets you join IM chats and audio meetings to take your office conversations on the move.\\nPretty much all you need to work on the go. Microsoft Office Mobile apps is currently supported on the following Symbian Devices – Nokia 700, 701, E7, C7, X7, 603, C6-01 and Nokia Oro. Support for the Nokia N8, E6 and 500 will be announced in the coming weeks. Nokia PureView 808 will come with these apps pre-loaded.\\nYou can get more information on how to set up Microsoft Office Mobile apps for your phone from Nokia's Belle Setup guide and more information on other Microsoft Productivity apps for Nokia phones from the Nokia for Business site.\", 'meta': {'redpajama_set_name': 'RedPajamaC4'}}\n"
     ]
    }
   ],
   "source": [
    "for data in shuffled_dataset['train']:\n",
    "    print(data)\n",
    "    break"
   ]
  },
  {
   "cell_type": "code",
   "execution_count": 7,
   "metadata": {},
   "outputs": [
    {
     "name": "stdout",
     "output_type": "stream",
     "text": [
      "{'text': \"If you were frustrated by third-party office application on your Symbian Belle phones, here's some good news for you. Nokia has just announced that users on their Belle platform can now user Microsoft Office Mobile apps on their phones now. This came out of the blue since most of us expected Microsoft's Office apps to be available exclusively on Nokia's Lumia phone series powered by Windows Phone. It's a good thing to see that Nokia-Microsoft partnership doesn't stop there, and is inclusive of Nokia's 'other' platform as well.\\nMicrosoft Exchange Active Sync – To sync contacts, calendars and email from your company's Exchange Servers directly to your phone.\\nMicrosoft Document Connect – To get access and work on your Word, PowerPoint and Excel files and access your company's SharePoint sites.\\nMicrosoft One Note – allows you to create notes on your phone and sync them to Skydrive allowing you to access them from the PC as well.\\nMicrosoft Lync – lets you join IM chats and audio meetings to take your office conversations on the move.\\nPretty much all you need to work on the go. Microsoft Office Mobile apps is currently supported on the following Symbian Devices – Nokia 700, 701, E7, C7, X7, 603, C6-01 and Nokia Oro. Support for the Nokia N8, E6 and 500 will be announced in the coming weeks. Nokia PureView 808 will come with these apps pre-loaded.\\nYou can get more information on how to set up Microsoft Office Mobile apps for your phone from Nokia's Belle Setup guide and more information on other Microsoft Productivity apps for Nokia phones from the Nokia for Business site.\", 'meta': {'redpajama_set_name': 'RedPajamaC4'}, 'input_ids': tensor([[  1, 960, 366,  ...,   0,   0,   0]]), 'attention_mask': tensor([[1, 1, 1,  ..., 0, 0, 0]])}\n"
     ]
    }
   ],
   "source": [
    "for data in tokenized_dataset['train']:\n",
    "    print(data)\n",
    "    break"
   ]
  },
  {
   "cell_type": "code",
   "execution_count": 8,
   "metadata": {},
   "outputs": [
    {
     "data": {
      "text/plain": [
       "[{'text': \"If you were frustrated by third-party office application on your Symbian Belle phones, here's some good news for you. Nokia has just announced that users on their Belle platform can now user Microsoft Office Mobile apps on their phones now. This came out of the blue since most of us expected Microsoft's Office apps to be available exclusively on Nokia's Lumia phone series powered by Windows Phone. It's a good thing to see that Nokia-Microsoft partnership doesn't stop there, and is inclusive of Nokia's 'other' platform as well.\\nMicrosoft Exchange Active Sync – To sync contacts, calendars and email from your company's Exchange Servers directly to your phone.\\nMicrosoft Document Connect – To get access and work on your Word, PowerPoint and Excel files and access your company's SharePoint sites.\\nMicrosoft One Note – allows you to create notes on your phone and sync them to Skydrive allowing you to access them from the PC as well.\\nMicrosoft Lync – lets you join IM chats and audio meetings to take your office conversations on the move.\\nPretty much all you need to work on the go. Microsoft Office Mobile apps is currently supported on the following Symbian Devices – Nokia 700, 701, E7, C7, X7, 603, C6-01 and Nokia Oro. Support for the Nokia N8, E6 and 500 will be announced in the coming weeks. Nokia PureView 808 will come with these apps pre-loaded.\\nYou can get more information on how to set up Microsoft Office Mobile apps for your phone from Nokia's Belle Setup guide and more information on other Microsoft Productivity apps for Nokia phones from the Nokia for Business site.\",\n",
       "  'meta': {'redpajama_set_name': 'RedPajamaC4'},\n",
       "  'input_ids': tensor([[  1, 960, 366,  ...,   0,   0,   0]]),\n",
       "  'attention_mask': tensor([[1, 1, 1,  ..., 0, 0, 0]])}]"
      ]
     },
     "execution_count": 8,
     "metadata": {},
     "output_type": "execute_result"
    }
   ],
   "source": [
    "list(tokenized_dataset['train'].take(1))"
   ]
  }
 ],
 "metadata": {
  "kernelspec": {
   "display_name": "Python 3",
   "language": "python",
   "name": "python3"
  },
  "language_info": {
   "codemirror_mode": {
    "name": "ipython",
    "version": 3
   },
   "file_extension": ".py",
   "mimetype": "text/x-python",
   "name": "python",
   "nbconvert_exporter": "python",
   "pygments_lexer": "ipython3",
   "version": "3.9.5"
  }
 },
 "nbformat": 4,
 "nbformat_minor": 2
}
