{
 "cells": [
  {
   "cell_type": "code",
   "execution_count": 1,
   "metadata": {},
   "outputs": [
    {
     "name": "stderr",
     "output_type": "stream",
     "text": [
      "/Users/aritradas/Documents/1. Project/FALL 2023/DSC 180/dsc-180/lib/python3.9/site-packages/tqdm/auto.py:21: TqdmWarning: IProgress not found. Please update jupyter and ipywidgets. See https://ipywidgets.readthedocs.io/en/stable/user_install.html\n",
      "  from .autonotebook import tqdm as notebook_tqdm\n",
      "None of PyTorch, TensorFlow >= 2.0, or Flax have been found. Models won't be available and only tokenizers, configuration and file/data utilities can be used.\n"
     ]
    }
   ],
   "source": [
    "import datasets\n",
    "from transformers import AutoTokenizer, LlamaTokenizer"
   ]
  },
  {
   "cell_type": "code",
   "execution_count": 2,
   "metadata": {},
   "outputs": [
    {
     "name": "stderr",
     "output_type": "stream",
     "text": [
      "Resolving data files: 100%|██████████| 118332/118332 [00:30<00:00, 3908.56it/s]\n",
      "Resolving data files: 100%|██████████| 31428/31428 [00:00<00:00, 460192.94it/s]\n",
      "Resolving data files: 100%|██████████| 31411/31411 [00:00<00:00, 301021.05it/s]\n"
     ]
    }
   ],
   "source": [
    "raw_datasets = datasets.load_dataset(\"cerebras/SlimPajama-627B\", streaming=True, )\n",
    "tokenizer = AutoTokenizer.from_pretrained(\"lmsys/vicuna-7b-v1.5\")"
   ]
  },
  {
   "cell_type": "code",
   "execution_count": 20,
   "metadata": {},
   "outputs": [],
   "source": [
    "shuffled_dataset = raw_datasets.shuffle(seed=42)"
   ]
  },
  {
   "cell_type": "code",
   "execution_count": 21,
   "metadata": {},
   "outputs": [],
   "source": [
    "tokenized_dataset = {}\n",
    "for key in raw_datasets.keys():\n",
    "    tokenized_dataset[key] = shuffled_dataset[key].map(\n",
    "        lambda x: {\n",
    "            'tokens': tokenizer(x[\"text\"], truncation=True, padding=\"max_length\", max_length=1024)\n",
    "            }\n",
    "    )"
   ]
  },
  {
   "cell_type": "code",
   "execution_count": 22,
   "metadata": {},
   "outputs": [
    {
     "name": "stdout",
     "output_type": "stream",
     "text": [
      "{'text': \"If you were frustrated by third-party office application on your Symbian Belle phones, here's some good news for you. Nokia has just announced that users on their Belle platform can now user Microsoft Office Mobile apps on their phones now. This came out of the blue since most of us expected Microsoft's Office apps to be available exclusively on Nokia's Lumia phone series powered by Windows Phone. It's a good thing to see that Nokia-Microsoft partnership doesn't stop there, and is inclusive of Nokia's 'other' platform as well.\\nMicrosoft Exchange Active Sync – To sync contacts, calendars and email from your company's Exchange Servers directly to your phone.\\nMicrosoft Document Connect – To get access and work on your Word, PowerPoint and Excel files and access your company's SharePoint sites.\\nMicrosoft One Note – allows you to create notes on your phone and sync them to Skydrive allowing you to access them from the PC as well.\\nMicrosoft Lync – lets you join IM chats and audio meetings to take your office conversations on the move.\\nPretty much all you need to work on the go. Microsoft Office Mobile apps is currently supported on the following Symbian Devices – Nokia 700, 701, E7, C7, X7, 603, C6-01 and Nokia Oro. Support for the Nokia N8, E6 and 500 will be announced in the coming weeks. Nokia PureView 808 will come with these apps pre-loaded.\\nYou can get more information on how to set up Microsoft Office Mobile apps for your phone from Nokia's Belle Setup guide and more information on other Microsoft Productivity apps for Nokia phones from the Nokia for Business site.\", 'meta': {'redpajama_set_name': 'RedPajamaC4'}}\n"
     ]
    }
   ],
   "source": [
    "for data in shuffled_dataset['train']:\n",
    "    print(data)\n",
    "    break"
   ]
  },
  {
   "cell_type": "code",
   "execution_count": 23,
   "metadata": {},
   "outputs": [
    {
     "name": "stdout",
     "output_type": "stream",
     "text": [
      "{'text': \"If you were frustrated by third-party office application on your Symbian Belle phones, here's some good news for you. Nokia has just announced that users on their Belle platform can now user Microsoft Office Mobile apps on their phones now. This came out of the blue since most of us expected Microsoft's Office apps to be available exclusively on Nokia's Lumia phone series powered by Windows Phone. It's a good thing to see that Nokia-Microsoft partnership doesn't stop there, and is inclusive of Nokia's 'other' platform as well.\\nMicrosoft Exchange Active Sync – To sync contacts, calendars and email from your company's Exchange Servers directly to your phone.\\nMicrosoft Document Connect – To get access and work on your Word, PowerPoint and Excel files and access your company's SharePoint sites.\\nMicrosoft One Note – allows you to create notes on your phone and sync them to Skydrive allowing you to access them from the PC as well.\\nMicrosoft Lync – lets you join IM chats and audio meetings to take your office conversations on the move.\\nPretty much all you need to work on the go. Microsoft Office Mobile apps is currently supported on the following Symbian Devices – Nokia 700, 701, E7, C7, X7, 603, C6-01 and Nokia Oro. Support for the Nokia N8, E6 and 500 will be announced in the coming weeks. Nokia PureView 808 will come with these apps pre-loaded.\\nYou can get more information on how to set up Microsoft Office Mobile apps for your phone from Nokia's Belle Setup guide and more information on other Microsoft Productivity apps for Nokia phones from the Nokia for Business site.\", 'meta': {'redpajama_set_name': 'RedPajamaC4'}, 'tokens': {'input_ids': [1, 960, 366, 892, 1424, 4627, 630, 491, 4654, 29899, 22633, 8034, 2280, 373, 596, 10667, 22863, 22228, 1374, 2873, 29892, 1244, 29915, 29879, 777, 1781, 9763, 363, 366, 29889, 405, 554, 423, 756, 925, 9326, 393, 4160, 373, 1009, 22228, 7481, 508, 1286, 1404, 7783, 11367, 21600, 11446, 373, 1009, 1374, 2873, 1286, 29889, 910, 2996, 714, 310, 278, 7254, 1951, 1556, 310, 502, 3806, 7783, 29915, 29879, 11367, 11446, 304, 367, 3625, 13489, 3598, 373, 405, 554, 423, 29915, 29879, 365, 398, 423, 9008, 3652, 3081, 287, 491, 3852, 24323, 29889, 739, 29915, 29879, 263, 1781, 2655, 304, 1074, 393, 405, 554, 423, 29899, 11277, 22056, 4034, 1838, 29915, 29873, 5040, 727, 29892, 322, 338, 20978, 573, 310, 405, 554, 423, 29915, 29879, 525, 1228, 29915, 7481, 408, 1532, 29889, 13, 11277, 24004, 10731, 317, 2720, 785, 1763, 16523, 25957, 29892, 1208, 355, 1503, 322, 4876, 515, 596, 5001, 29915, 29879, 24004, 1816, 874, 4153, 304, 596, 9008, 29889, 13, 11277, 10854, 14971, 785, 1763, 679, 2130, 322, 664, 373, 596, 10803, 29892, 9206, 5228, 322, 11388, 2066, 322, 2130, 596, 5001, 29915, 29879, 26849, 5228, 11840, 29889, 13, 11277, 3118, 3940, 785, 6511, 366, 304, 1653, 11486, 373, 596, 9008, 322, 16523, 963, 304, 4971, 2941, 4401, 14372, 366, 304, 2130, 963, 515, 278, 9609, 408, 1532, 29889, 13, 11277, 365, 2720, 785, 16869, 366, 5988, 22313, 521, 1446, 322, 10348, 5870, 886, 304, 2125, 596, 8034, 9678, 800, 373, 278, 4337, 29889, 13, 6572, 4349, 1568, 599, 366, 817, 304, 664, 373, 278, 748, 29889, 7783, 11367, 21600, 11446, 338, 5279, 6969, 373, 278, 1494, 10667, 22863, 9481, 1575, 785, 405, 554, 423, 29871, 29955, 29900, 29900, 29892, 29871, 29955, 29900, 29896, 29892, 382, 29955, 29892, 315, 29955, 29892, 1060, 29955, 29892, 29871, 29953, 29900, 29941, 29892, 315, 29953, 29899, 29900, 29896, 322, 405, 554, 423, 438, 307, 29889, 18601, 363, 278, 405, 554, 423, 405, 29947, 29892, 382, 29953, 322, 29871, 29945, 29900, 29900, 674, 367, 9326, 297, 278, 6421, 11405, 29889, 405, 554, 423, 349, 545, 1043, 29871, 29947, 29900, 29947, 674, 2041, 411, 1438, 11446, 758, 29899, 15638, 29889, 13, 3492, 508, 679, 901, 2472, 373, 920, 304, 731, 701, 7783, 11367, 21600, 11446, 363, 596, 9008, 515, 405, 554, 423, 29915, 29879, 22228, 3789, 786, 10754, 322, 901, 2472, 373, 916, 7783, 10969, 2068, 11446, 363, 405, 554, 423, 1374, 2873, 515, 278, 405, 554, 423, 363, 15197, 3268, 29889, 0, 0, 0, 0, 0, 0, 0, 0, 0, 0, 0, 0, 0, 0, 0, 0, 0, 0, 0, 0, 0, 0, 0, 0, 0, 0, 0, 0, 0, 0, 0, 0, 0, 0, 0, 0, 0, 0, 0, 0, 0, 0, 0, 0, 0, 0, 0, 0, 0, 0, 0, 0, 0, 0, 0, 0, 0, 0, 0, 0, 0, 0, 0, 0, 0, 0, 0, 0, 0, 0, 0, 0, 0, 0, 0, 0, 0, 0, 0, 0, 0, 0, 0, 0, 0, 0, 0, 0, 0, 0, 0, 0, 0, 0, 0, 0, 0, 0, 0, 0, 0, 0, 0, 0, 0, 0, 0, 0, 0, 0, 0, 0, 0, 0, 0, 0, 0, 0, 0, 0, 0, 0, 0, 0, 0, 0, 0, 0, 0, 0, 0, 0, 0, 0, 0, 0, 0, 0, 0, 0, 0, 0, 0, 0, 0, 0, 0, 0, 0, 0, 0, 0, 0, 0, 0, 0, 0, 0, 0, 0, 0, 0, 0, 0, 0, 0, 0, 0, 0, 0, 0, 0, 0, 0, 0, 0, 0, 0, 0, 0, 0, 0, 0, 0, 0, 0, 0, 0, 0, 0, 0, 0, 0, 0, 0, 0, 0, 0, 0, 0, 0, 0, 0, 0, 0, 0, 0, 0, 0, 0, 0, 0, 0, 0, 0, 0, 0, 0, 0, 0, 0, 0, 0, 0, 0, 0, 0, 0, 0, 0, 0, 0, 0, 0, 0, 0, 0, 0, 0, 0, 0, 0, 0, 0, 0, 0, 0, 0, 0, 0, 0, 0, 0, 0, 0, 0, 0, 0, 0, 0, 0, 0, 0, 0, 0, 0, 0, 0, 0, 0, 0, 0, 0, 0, 0, 0, 0, 0, 0, 0, 0, 0, 0, 0, 0, 0, 0, 0, 0, 0, 0, 0, 0, 0, 0, 0, 0, 0, 0, 0, 0, 0, 0, 0, 0, 0, 0, 0, 0, 0, 0, 0, 0, 0, 0, 0, 0, 0, 0, 0, 0, 0, 0, 0, 0, 0, 0, 0, 0, 0, 0, 0, 0, 0, 0, 0, 0, 0, 0, 0, 0, 0, 0, 0, 0, 0, 0, 0, 0, 0, 0, 0, 0, 0, 0, 0, 0, 0, 0, 0, 0, 0, 0, 0, 0, 0, 0, 0, 0, 0, 0, 0, 0, 0, 0, 0, 0, 0, 0, 0, 0, 0, 0, 0, 0, 0, 0, 0, 0, 0, 0, 0, 0, 0, 0, 0, 0, 0, 0, 0, 0, 0, 0, 0, 0, 0, 0, 0, 0, 0, 0, 0, 0, 0, 0, 0, 0, 0, 0, 0, 0, 0, 0, 0, 0, 0, 0, 0, 0, 0, 0, 0, 0, 0, 0, 0, 0, 0, 0, 0, 0, 0, 0, 0, 0, 0, 0, 0, 0, 0, 0, 0, 0, 0, 0, 0, 0, 0, 0, 0, 0, 0, 0, 0, 0, 0, 0, 0, 0, 0, 0, 0, 0, 0, 0, 0, 0, 0, 0, 0, 0, 0, 0, 0, 0, 0, 0, 0, 0, 0, 0, 0, 0, 0, 0, 0, 0, 0, 0, 0, 0, 0, 0, 0, 0, 0, 0, 0, 0, 0, 0, 0, 0, 0, 0, 0, 0, 0, 0, 0, 0, 0, 0, 0, 0, 0, 0, 0, 0, 0, 0, 0, 0, 0, 0, 0, 0, 0, 0, 0, 0, 0, 0, 0, 0, 0, 0, 0, 0, 0, 0, 0, 0, 0, 0, 0, 0, 0, 0, 0, 0, 0, 0, 0, 0, 0, 0, 0, 0, 0, 0, 0, 0, 0, 0, 0, 0, 0, 0, 0, 0, 0, 0, 0, 0, 0, 0, 0, 0, 0, 0, 0, 0, 0, 0, 0, 0, 0, 0, 0, 0, 0, 0, 0, 0, 0, 0, 0, 0, 0, 0, 0, 0, 0, 0, 0], 'attention_mask': [1, 1, 1, 1, 1, 1, 1, 1, 1, 1, 1, 1, 1, 1, 1, 1, 1, 1, 1, 1, 1, 1, 1, 1, 1, 1, 1, 1, 1, 1, 1, 1, 1, 1, 1, 1, 1, 1, 1, 1, 1, 1, 1, 1, 1, 1, 1, 1, 1, 1, 1, 1, 1, 1, 1, 1, 1, 1, 1, 1, 1, 1, 1, 1, 1, 1, 1, 1, 1, 1, 1, 1, 1, 1, 1, 1, 1, 1, 1, 1, 1, 1, 1, 1, 1, 1, 1, 1, 1, 1, 1, 1, 1, 1, 1, 1, 1, 1, 1, 1, 1, 1, 1, 1, 1, 1, 1, 1, 1, 1, 1, 1, 1, 1, 1, 1, 1, 1, 1, 1, 1, 1, 1, 1, 1, 1, 1, 1, 1, 1, 1, 1, 1, 1, 1, 1, 1, 1, 1, 1, 1, 1, 1, 1, 1, 1, 1, 1, 1, 1, 1, 1, 1, 1, 1, 1, 1, 1, 1, 1, 1, 1, 1, 1, 1, 1, 1, 1, 1, 1, 1, 1, 1, 1, 1, 1, 1, 1, 1, 1, 1, 1, 1, 1, 1, 1, 1, 1, 1, 1, 1, 1, 1, 1, 1, 1, 1, 1, 1, 1, 1, 1, 1, 1, 1, 1, 1, 1, 1, 1, 1, 1, 1, 1, 1, 1, 1, 1, 1, 1, 1, 1, 1, 1, 1, 1, 1, 1, 1, 1, 1, 1, 1, 1, 1, 1, 1, 1, 1, 1, 1, 1, 1, 1, 1, 1, 1, 1, 1, 1, 1, 1, 1, 1, 1, 1, 1, 1, 1, 1, 1, 1, 1, 1, 1, 1, 1, 1, 1, 1, 1, 1, 1, 1, 1, 1, 1, 1, 1, 1, 1, 1, 1, 1, 1, 1, 1, 1, 1, 1, 1, 1, 1, 1, 1, 1, 1, 1, 1, 1, 1, 1, 1, 1, 1, 1, 1, 1, 1, 1, 1, 1, 1, 1, 1, 1, 1, 1, 1, 1, 1, 1, 1, 1, 1, 1, 1, 1, 1, 1, 1, 1, 1, 1, 1, 1, 1, 1, 1, 1, 1, 1, 1, 1, 1, 1, 1, 1, 1, 1, 1, 1, 1, 1, 1, 1, 1, 1, 1, 1, 1, 1, 1, 1, 1, 1, 1, 1, 1, 1, 1, 1, 1, 1, 1, 1, 1, 1, 1, 1, 1, 1, 1, 1, 1, 1, 1, 1, 1, 1, 1, 1, 1, 1, 1, 1, 1, 1, 1, 1, 1, 1, 1, 1, 1, 1, 1, 1, 0, 0, 0, 0, 0, 0, 0, 0, 0, 0, 0, 0, 0, 0, 0, 0, 0, 0, 0, 0, 0, 0, 0, 0, 0, 0, 0, 0, 0, 0, 0, 0, 0, 0, 0, 0, 0, 0, 0, 0, 0, 0, 0, 0, 0, 0, 0, 0, 0, 0, 0, 0, 0, 0, 0, 0, 0, 0, 0, 0, 0, 0, 0, 0, 0, 0, 0, 0, 0, 0, 0, 0, 0, 0, 0, 0, 0, 0, 0, 0, 0, 0, 0, 0, 0, 0, 0, 0, 0, 0, 0, 0, 0, 0, 0, 0, 0, 0, 0, 0, 0, 0, 0, 0, 0, 0, 0, 0, 0, 0, 0, 0, 0, 0, 0, 0, 0, 0, 0, 0, 0, 0, 0, 0, 0, 0, 0, 0, 0, 0, 0, 0, 0, 0, 0, 0, 0, 0, 0, 0, 0, 0, 0, 0, 0, 0, 0, 0, 0, 0, 0, 0, 0, 0, 0, 0, 0, 0, 0, 0, 0, 0, 0, 0, 0, 0, 0, 0, 0, 0, 0, 0, 0, 0, 0, 0, 0, 0, 0, 0, 0, 0, 0, 0, 0, 0, 0, 0, 0, 0, 0, 0, 0, 0, 0, 0, 0, 0, 0, 0, 0, 0, 0, 0, 0, 0, 0, 0, 0, 0, 0, 0, 0, 0, 0, 0, 0, 0, 0, 0, 0, 0, 0, 0, 0, 0, 0, 0, 0, 0, 0, 0, 0, 0, 0, 0, 0, 0, 0, 0, 0, 0, 0, 0, 0, 0, 0, 0, 0, 0, 0, 0, 0, 0, 0, 0, 0, 0, 0, 0, 0, 0, 0, 0, 0, 0, 0, 0, 0, 0, 0, 0, 0, 0, 0, 0, 0, 0, 0, 0, 0, 0, 0, 0, 0, 0, 0, 0, 0, 0, 0, 0, 0, 0, 0, 0, 0, 0, 0, 0, 0, 0, 0, 0, 0, 0, 0, 0, 0, 0, 0, 0, 0, 0, 0, 0, 0, 0, 0, 0, 0, 0, 0, 0, 0, 0, 0, 0, 0, 0, 0, 0, 0, 0, 0, 0, 0, 0, 0, 0, 0, 0, 0, 0, 0, 0, 0, 0, 0, 0, 0, 0, 0, 0, 0, 0, 0, 0, 0, 0, 0, 0, 0, 0, 0, 0, 0, 0, 0, 0, 0, 0, 0, 0, 0, 0, 0, 0, 0, 0, 0, 0, 0, 0, 0, 0, 0, 0, 0, 0, 0, 0, 0, 0, 0, 0, 0, 0, 0, 0, 0, 0, 0, 0, 0, 0, 0, 0, 0, 0, 0, 0, 0, 0, 0, 0, 0, 0, 0, 0, 0, 0, 0, 0, 0, 0, 0, 0, 0, 0, 0, 0, 0, 0, 0, 0, 0, 0, 0, 0, 0, 0, 0, 0, 0, 0, 0, 0, 0, 0, 0, 0, 0, 0, 0, 0, 0, 0, 0, 0, 0, 0, 0, 0, 0, 0, 0, 0, 0, 0, 0, 0, 0, 0, 0, 0, 0, 0, 0, 0, 0, 0, 0, 0, 0, 0, 0, 0, 0, 0, 0, 0, 0, 0, 0, 0, 0, 0, 0, 0, 0, 0, 0, 0, 0, 0, 0, 0, 0, 0, 0, 0, 0, 0, 0, 0, 0, 0, 0, 0, 0, 0, 0, 0, 0, 0, 0, 0, 0, 0, 0, 0, 0, 0, 0, 0, 0, 0, 0, 0, 0, 0, 0, 0, 0, 0, 0, 0, 0, 0, 0, 0, 0, 0, 0, 0, 0, 0, 0, 0, 0, 0, 0, 0, 0, 0, 0, 0, 0, 0, 0, 0, 0, 0, 0, 0, 0, 0, 0, 0, 0, 0, 0, 0, 0, 0, 0, 0, 0, 0, 0, 0, 0, 0, 0, 0, 0, 0, 0, 0, 0, 0, 0, 0, 0, 0, 0, 0, 0, 0, 0, 0, 0, 0, 0, 0]}}\n"
     ]
    }
   ],
   "source": [
    "for data in tokenized_dataset['train']:\n",
    "    print(data)\n",
    "    break"
   ]
  }
 ],
 "metadata": {
  "kernelspec": {
   "display_name": "Python 3",
   "language": "python",
   "name": "python3"
  },
  "language_info": {
   "codemirror_mode": {
    "name": "ipython",
    "version": 3
   },
   "file_extension": ".py",
   "mimetype": "text/x-python",
   "name": "python",
   "nbconvert_exporter": "python",
   "pygments_lexer": "ipython3",
   "version": "3.9.16"
  }
 },
 "nbformat": 4,
 "nbformat_minor": 2
}
